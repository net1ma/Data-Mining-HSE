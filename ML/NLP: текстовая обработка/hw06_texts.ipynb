{
 "cells": [
  {
   "cell_type": "markdown",
   "metadata": {
    "id": "Ffq6A2-ifzAA"
   },
   "source": [
    "# Интеллектуальный анализ данных – весна 2025\n",
    "# Домашнее задание 6: классификация текстов"
   ]
  },
  {
   "cell_type": "markdown",
   "metadata": {
    "id": "EPcxtekTA1Sm"
   },
   "source": [
    "Правила:\n",
    "\n",
    "\n",
    "\n",
    "*   Домашнее задание оценивается в 10 баллов.\n",
    "*   Можно использовать без доказательства любые результаты, встречавшиеся на лекциях или семинарах по курсу, если получение этих результатов не является вопросом задания.\n",
    "*  Можно использовать любые свободные источники с *обязательным* указанием ссылки на них.\n",
    "*  Плагиат не допускается. При обнаружении случаев списывания, 0 за работу выставляется всем участникам нарушения, даже если можно установить, кто у кого списал.\n",
    "*  Старайтесь сделать код как можно более оптимальным. В частности, будет штрафоваться использование циклов в тех случаях, когда операцию можно совершить при помощи инструментов библиотек, о которых рассказывалось в курсе.\n",
    "* Если в задании есть вопрос на рассуждение, то за отсутствие ответа на него балл за задание будет снижен вполовину."
   ]
  },
  {
   "cell_type": "markdown",
   "metadata": {
    "id": "itRtFtrOf0_b"
   },
   "source": [
    "В этом домашнем задании вам предстоит построить классификатор текстов.\n",
    "\n",
    "Будем предсказывать эмоциональную окраску твиттов о коронавирусе.\n",
    "\n"
   ]
  },
  {
   "cell_type": "code",
   "execution_count": 1522,
   "metadata": {
    "id": "tNGRVO7_g9mz"
   },
   "outputs": [],
   "source": [
    "import numpy as np\n",
    "import pandas as pd\n",
    "from typing import  List\n",
    "import matplotlib.pyplot as plt\n",
    "import seaborn as sns\n",
    "from string import punctuation"
   ]
  },
  {
   "cell_type": "code",
   "execution_count": 1524,
   "metadata": {
    "colab": {
     "base_uri": "https://localhost:8080/",
     "height": 348
    },
    "id": "zOy8iHJQg_Ss",
    "outputId": "6a32c325-1b9a-4895-ab22-5e985016da91"
   },
   "outputs": [
    {
     "data": {
      "text/html": [
       "<div>\n",
       "<style scoped>\n",
       "    .dataframe tbody tr th:only-of-type {\n",
       "        vertical-align: middle;\n",
       "    }\n",
       "\n",
       "    .dataframe tbody tr th {\n",
       "        vertical-align: top;\n",
       "    }\n",
       "\n",
       "    .dataframe thead th {\n",
       "        text-align: right;\n",
       "    }\n",
       "</style>\n",
       "<table border=\"1\" class=\"dataframe\">\n",
       "  <thead>\n",
       "    <tr style=\"text-align: right;\">\n",
       "      <th></th>\n",
       "      <th>UserName</th>\n",
       "      <th>ScreenName</th>\n",
       "      <th>Location</th>\n",
       "      <th>TweetAt</th>\n",
       "      <th>OriginalTweet</th>\n",
       "      <th>Sentiment</th>\n",
       "    </tr>\n",
       "  </thead>\n",
       "  <tbody>\n",
       "    <tr>\n",
       "      <th>33366</th>\n",
       "      <td>44853</td>\n",
       "      <td>89805</td>\n",
       "      <td>New York, USA</td>\n",
       "      <td>14-04-2020</td>\n",
       "      <td>Supermarket Madness! https://t.co/2oYivZtfcn\\r...</td>\n",
       "      <td>Negative</td>\n",
       "    </tr>\n",
       "    <tr>\n",
       "      <th>25520</th>\n",
       "      <td>35057</td>\n",
       "      <td>80009</td>\n",
       "      <td>Sydney</td>\n",
       "      <td>06-04-2020</td>\n",
       "      <td>Exclusive: Panic buying for pets sparks new re...</td>\n",
       "      <td>Negative</td>\n",
       "    </tr>\n",
       "    <tr>\n",
       "      <th>21490</th>\n",
       "      <td>30016</td>\n",
       "      <td>74968</td>\n",
       "      <td>Stoneleigh, Warwickshire</td>\n",
       "      <td>02-04-2020</td>\n",
       "      <td>The EU-spec SPP rose in the week ending 28 Mar...</td>\n",
       "      <td>Positive</td>\n",
       "    </tr>\n",
       "    <tr>\n",
       "      <th>1178</th>\n",
       "      <td>5230</td>\n",
       "      <td>50182</td>\n",
       "      <td>Maryland, USA</td>\n",
       "      <td>17-03-2020</td>\n",
       "      <td>So IÃÂm hearing many myths about #COVID-19 a...</td>\n",
       "      <td>Positive</td>\n",
       "    </tr>\n",
       "  </tbody>\n",
       "</table>\n",
       "</div>"
      ],
      "text/plain": [
       "       UserName  ScreenName                  Location     TweetAt  \\\n",
       "33366     44853       89805             New York, USA  14-04-2020   \n",
       "25520     35057       80009                   Sydney   06-04-2020   \n",
       "21490     30016       74968  Stoneleigh, Warwickshire  02-04-2020   \n",
       "1178       5230       50182             Maryland, USA  17-03-2020   \n",
       "\n",
       "                                           OriginalTweet Sentiment  \n",
       "33366  Supermarket Madness! https://t.co/2oYivZtfcn\\r...  Negative  \n",
       "25520  Exclusive: Panic buying for pets sparks new re...  Negative  \n",
       "21490  The EU-spec SPP rose in the week ending 28 Mar...  Positive  \n",
       "1178   So IÃÂm hearing many myths about #COVID-19 a...  Positive  "
      ]
     },
     "execution_count": 1524,
     "metadata": {},
     "output_type": "execute_result"
    }
   ],
   "source": [
    "df = pd.read_csv('/Users/tima/MyNotebooks/tweets_coronavirus.csv', encoding='latin-1')\n",
    "df.sample(4)"
   ]
  },
  {
   "cell_type": "markdown",
   "metadata": {
    "id": "m2OiDog9ZBlS"
   },
   "source": [
    "Для каждого твитта указано:\n",
    "\n",
    "\n",
    "*   UserName - имя пользователя, заменено на целое число для анонимности\n",
    "*   ScreenName - отображающееся имя пользователя, заменено на целое число для анонимности\n",
    "*   Location - местоположение\n",
    "*   TweetAt - дата создания твитта\n",
    "*   OriginalTweet - текст твитта\n",
    "*   Sentiment - эмоциональная окраска твитта (целевая переменная)\n",
    "\n"
   ]
  },
  {
   "cell_type": "markdown",
   "metadata": {
    "id": "pZTMseDkhTC7"
   },
   "source": [
    "## Задание 1 Подготовка (0.5 балла)"
   ]
  },
  {
   "cell_type": "markdown",
   "metadata": {
    "id": "Xx2-odn9hdAW"
   },
   "source": [
    "Целевая переменная находится в колонке `Sentiment`.  Преобразуйте ее таким образом, чтобы она стала бинарной: 1 - если у твитта положительная или очень положительная эмоциональная окраска и 0 - если отрицательная или очень отрицательная."
   ]
  },
  {
   "cell_type": "code",
   "execution_count": 1529,
   "metadata": {
    "id": "ZaQKQ1zEjP15"
   },
   "outputs": [
    {
     "name": "stderr",
     "output_type": "stream",
     "text": [
      "/var/folders/j4/79fj4fn91zlb8wkydvy_zbf00000gn/T/ipykernel_88845/717082825.py:1: FutureWarning: Downcasting behavior in `replace` is deprecated and will be removed in a future version. To retain the old behavior, explicitly call `result.infer_objects(copy=False)`. To opt-in to the future behavior, set `pd.set_option('future.no_silent_downcasting', True)`\n",
      "  df['Sentiment'] = df['Sentiment'].replace({'Positive': 1, 'Extremely Positive': 1, 'Negative': 0, 'Extremely Negative': 0}).astype(int)\n"
     ]
    },
    {
     "data": {
      "text/plain": [
       "(33444, 6)"
      ]
     },
     "execution_count": 1529,
     "metadata": {},
     "output_type": "execute_result"
    }
   ],
   "source": [
    "df['Sentiment'] = df['Sentiment'].replace({'Positive': 1, 'Extremely Positive': 1, 'Negative': 0, 'Extremely Negative': 0}).astype(int)\n",
    "df.shape"
   ]
  },
  {
   "cell_type": "markdown",
   "metadata": {
    "id": "pGq1FxJ-kBo5"
   },
   "source": [
    "Сбалансированы ли классы?"
   ]
  },
  {
   "cell_type": "code",
   "execution_count": 1532,
   "metadata": {
    "id": "a7gdNtxckK5V"
   },
   "outputs": [
    {
     "data": {
      "text/plain": [
       "Sentiment\n",
       "1    18046\n",
       "0    15398\n",
       "Name: count, dtype: int64"
      ]
     },
     "execution_count": 1532,
     "metadata": {},
     "output_type": "execute_result"
    }
   ],
   "source": [
    "df['Sentiment'].value_counts()"
   ]
  },
  {
   "cell_type": "markdown",
   "metadata": {
    "id": "Ng8BCelMkWb0"
   },
   "source": [
    "**Ответ:** Да, сбалансированны, так как позитивных твиттов всего на 17% больше."
   ]
  },
  {
   "cell_type": "markdown",
   "metadata": {
    "id": "qmSIBSsLk5Zz"
   },
   "source": [
    "Выведете на экран информацию о пропусках в данных. Если пропуски присутствуют заполните их строкой 'Unknown'."
   ]
  },
  {
   "cell_type": "code",
   "execution_count": 1536,
   "metadata": {
    "id": "UhUVRkR5kxa7"
   },
   "outputs": [
    {
     "name": "stdout",
     "output_type": "stream",
     "text": [
      "Количество пропусков в исследуемом датасете по признакам:\n",
      "                Sum\n",
      "UserName          0\n",
      "ScreenName        0\n",
      "Location       7049\n",
      "TweetAt           0\n",
      "OriginalTweet     0\n",
      "Sentiment         0\n",
      "\n",
      "Заменяем пропущенные значения на 'Unknown'\n",
      "\n",
      "Количество пропусков в исследуемом датасете по признакам:\n",
      "               Sum\n",
      "UserName         0\n",
      "ScreenName       0\n",
      "Location         0\n",
      "TweetAt          0\n",
      "OriginalTweet    0\n",
      "Sentiment        0\n"
     ]
    }
   ],
   "source": [
    "print(f\"Количество пропусков в исследуемом датасете по признакам:\\n{pd.DataFrame(df.isna().sum(), columns=['Sum'])}\")\n",
    "print(f\"\\nЗаменяем пропущенные значения на 'Unknown'\\n\")\n",
    "df.fillna('Unknown', inplace=True)\n",
    "print(f\"Количество пропусков в исследуемом датасете по признакам:\\n{pd.DataFrame(df.isna().sum(), columns=['Sum'])}\")"
   ]
  },
  {
   "cell_type": "markdown",
   "metadata": {
    "id": "1tzt27tfjUpq"
   },
   "source": [
    "Разделите данные на обучающие и тестовые в соотношении 7 : 3 и укажите `random_state=0`"
   ]
  },
  {
   "cell_type": "code",
   "execution_count": 1539,
   "metadata": {
    "id": "xSLOA9tIj9Z6"
   },
   "outputs": [],
   "source": [
    "from sklearn.model_selection import train_test_split\n",
    "\n",
    "\n",
    "train, test = train_test_split(df, test_size=0.3, random_state=0)"
   ]
  },
  {
   "cell_type": "markdown",
   "metadata": {
    "id": "J9RrPUsJlL60"
   },
   "source": [
    "## Задание 2 Токенизация (3 балла)"
   ]
  },
  {
   "cell_type": "markdown",
   "metadata": {
    "id": "2Dz_b7Xopc_R"
   },
   "source": [
    "Постройте словарь на основе обучающей выборки и посчитайте количество встреч каждого токена с использованием самой простой токенизации - деления текстов по пробельным символам и приведения токенов в нижний регистр."
   ]
  },
  {
   "cell_type": "code",
   "execution_count": 1543,
   "metadata": {
    "id": "SFr67WOJphny"
   },
   "outputs": [],
   "source": [
    "tokens = {}\n",
    "\n",
    "for tweet in train['OriginalTweet']:\n",
    "    tweet_splitted = tweet.lower().split()\n",
    "    for word in tweet_splitted:\n",
    "        if word not in tokens:\n",
    "            tokens[word] = 1\n",
    "        else:\n",
    "            tokens[word] += 1"
   ]
  },
  {
   "cell_type": "markdown",
   "metadata": {
    "id": "Pe0h2Jqkpnao"
   },
   "source": [
    "Какой размер словаря получился?"
   ]
  },
  {
   "cell_type": "code",
   "execution_count": 1546,
   "metadata": {
    "id": "umyENA7EpokD"
   },
   "outputs": [
    {
     "data": {
      "text/plain": [
       "79755"
      ]
     },
     "execution_count": 1546,
     "metadata": {},
     "output_type": "execute_result"
    }
   ],
   "source": [
    "len(tokens)"
   ]
  },
  {
   "cell_type": "markdown",
   "metadata": {
    "id": "0d2G1Z-Qpqkd"
   },
   "source": [
    "Выведите 10 самых популярных токенов с количеством встреч каждого из них. Объясните, почему именно эти токены в топе."
   ]
  },
  {
   "cell_type": "code",
   "execution_count": 1549,
   "metadata": {
    "id": "Impi32a_pssg"
   },
   "outputs": [
    {
     "name": "stdout",
     "output_type": "stream",
     "text": [
      "Топ-10 самых популярных слов:\n"
     ]
    },
    {
     "data": {
      "text/html": [
       "<div>\n",
       "<style scoped>\n",
       "    .dataframe tbody tr th:only-of-type {\n",
       "        vertical-align: middle;\n",
       "    }\n",
       "\n",
       "    .dataframe tbody tr th {\n",
       "        vertical-align: top;\n",
       "    }\n",
       "\n",
       "    .dataframe thead th {\n",
       "        text-align: right;\n",
       "    }\n",
       "</style>\n",
       "<table border=\"1\" class=\"dataframe\">\n",
       "  <thead>\n",
       "    <tr style=\"text-align: right;\">\n",
       "      <th></th>\n",
       "      <th>Token</th>\n",
       "      <th>Count</th>\n",
       "    </tr>\n",
       "  </thead>\n",
       "  <tbody>\n",
       "    <tr>\n",
       "      <th>0</th>\n",
       "      <td>the</td>\n",
       "      <td>26815</td>\n",
       "    </tr>\n",
       "    <tr>\n",
       "      <th>1</th>\n",
       "      <td>to</td>\n",
       "      <td>23373</td>\n",
       "    </tr>\n",
       "    <tr>\n",
       "      <th>2</th>\n",
       "      <td>and</td>\n",
       "      <td>14684</td>\n",
       "    </tr>\n",
       "    <tr>\n",
       "      <th>3</th>\n",
       "      <td>of</td>\n",
       "      <td>13012</td>\n",
       "    </tr>\n",
       "    <tr>\n",
       "      <th>4</th>\n",
       "      <td>a</td>\n",
       "      <td>11737</td>\n",
       "    </tr>\n",
       "    <tr>\n",
       "      <th>5</th>\n",
       "      <td>in</td>\n",
       "      <td>11198</td>\n",
       "    </tr>\n",
       "    <tr>\n",
       "      <th>6</th>\n",
       "      <td>for</td>\n",
       "      <td>8566</td>\n",
       "    </tr>\n",
       "    <tr>\n",
       "      <th>7</th>\n",
       "      <td>#coronavirus</td>\n",
       "      <td>8223</td>\n",
       "    </tr>\n",
       "    <tr>\n",
       "      <th>8</th>\n",
       "      <td>is</td>\n",
       "      <td>7383</td>\n",
       "    </tr>\n",
       "    <tr>\n",
       "      <th>9</th>\n",
       "      <td>are</td>\n",
       "      <td>7050</td>\n",
       "    </tr>\n",
       "  </tbody>\n",
       "</table>\n",
       "</div>"
      ],
      "text/plain": [
       "          Token  Count\n",
       "0           the  26815\n",
       "1            to  23373\n",
       "2           and  14684\n",
       "3            of  13012\n",
       "4             a  11737\n",
       "5            in  11198\n",
       "6           for   8566\n",
       "7  #coronavirus   8223\n",
       "8            is   7383\n",
       "9           are   7050"
      ]
     },
     "execution_count": 1549,
     "metadata": {},
     "output_type": "execute_result"
    }
   ],
   "source": [
    "tokens_sorted_desc = sorted(tokens.items(), key=lambda x: x[1], reverse=True)\n",
    "tokens_pplr_top10 = pd.DataFrame(tokens_sorted_desc[:10], columns=['Token', 'Count'])\n",
    "\n",
    "print(f\"Топ-10 самых популярных слов:\")\n",
    "tokens_pplr_top10"
   ]
  },
  {
   "cell_type": "markdown",
   "metadata": {
    "id": "ZtuJCD0ApuFd"
   },
   "source": [
    "**Ответ:** Популярность артиклей: <i>the, a</i>; предлогов: <i>to, of, in, for</i>; а также форм глагола to be: <i>is, are</i> объяснима тем, что предлоги используются перед подавляющим количеством существительных; предлоги связывают одни существительные с другими; а формы глагола to be сами по себе означают <i>быть, являться, есть</i>, то есть являются глаголами состояния или явления.\n",
    "В силу того, что датасет является датасетом твиттов в течение коронавируса, и в то время глобальная пандемия воцарилась по всей планете, поэтому очевидно, почему люди так часто говорили или писали о ней."
   ]
  },
  {
   "cell_type": "markdown",
   "metadata": {
    "id": "T7DTQDkWsVYp"
   },
   "source": [
    "Удалите стоп-слова из словаря и выведите новый топ-10 токенов (и количество встреч) по популярности.  Что можно сказать  о нем?"
   ]
  },
  {
   "cell_type": "code",
   "execution_count": 1553,
   "metadata": {
    "id": "8csSAdgTsnFx"
   },
   "outputs": [
    {
     "name": "stdout",
     "output_type": "stream",
     "text": [
      "Топ-10 самых популярных слов за исключение стоп-слов:\n",
      "1) #coronavirus: 8223\n",
      "2) prices: 3891\n",
      "3) food: 3820\n",
      "4) grocery: 3469\n",
      "5) supermarket: 3288\n",
      "6) people: 3175\n",
      "7) covid-19: 3173\n",
      "8) store: 3155\n",
      "9) #covid19: 2471\n",
      "10) &amp;: 2314\n"
     ]
    }
   ],
   "source": [
    "import nltk\n",
    "from nltk.corpus import stopwords\n",
    "\n",
    "nltk.download(\"stopwords\", quiet=True)\n",
    "stopwords_list = stopwords.words(\"english\")\n",
    "\n",
    "print(\"Топ-10 самых популярных слов за исключение стоп-слов:\")\n",
    "i = 1\n",
    "for token in tokens_sorted_desc:\n",
    "    word, cnt = token\n",
    "    if word not in stopwords_list:\n",
    "        print(f\"{i}) {word}: {cnt}\")\n",
    "        i += 1\n",
    "\n",
    "    if i == 11:\n",
    "        break"
   ]
  },
  {
   "cell_type": "markdown",
   "metadata": {
    "id": "LZH0x2Lzs-Dh"
   },
   "source": [
    "**Ответ:**  С <i>#coronavirus, covid-19 и #covid19</i> все уже предельно очевидно. На начальных этапах коронавируса люди активно скупали <i>продукты первой необходимости в магазинах</i>, ожидая чего-то неладного и порой оставляя пустые полки. На фоне ковида также произошел глобальный кризис, который считается, худшим с времен Великой депрессии: резко упали <i>цены</i> на бензин, росли <i>цены</i> на <i>продукты питания</i>. Также именно этот год стал точкой роста для <i>доставок еды и продуктов питания</i> домой. Это и послужило популярности слова <i>consumer</i> в связи изменениям товарного рынка и реакцией потребителя на это. Не стоит забывать про американские протесты после убийства Джорджа Флойда и сопровождающие их мародерство и беспорядки: куча народа толпами вламывались в <i>магазины</i> и крали все что угодно. Слово <i>people</i? в целом довольно популярное слово, но также могу предположить, что его часто использовали в контексте подсчета заболевших/умерших от коронавируса. \n"
   ]
  },
  {
   "cell_type": "markdown",
   "metadata": {
    "id": "TKSGRyI-uor0"
   },
   "source": [
    "Также выведите 20 самых непопулярных слов (если самых непопулярных слов больше, выведите любые 20 из них) Почему эти токены непопулярны, требуется ли как-то дополнительно работать с ними?"
   ]
  },
  {
   "cell_type": "code",
   "execution_count": 1557,
   "metadata": {
    "id": "moArbwfvun9t"
   },
   "outputs": [
    {
     "name": "stdout",
     "output_type": "stream",
     "text": [
      "Топ-20 самых непопулярных слов\n",
      "1) https://t.co/62kg2laxsa: 1\n",
      "2) #seminoleheightsunite: 1\n",
      "3) https://t.co/v0cbidnywk: 1\n",
      "4) house,i: 1\n",
      "5) https://t.co/ayf4ckkul8: 1\n",
      "6) oliverãâs: 1\n",
      "7) livable: 1\n",
      "8) https://t.co/uclswwdqna: 1\n",
      "9) https://t.co/hypqci20ye: 1\n",
      "10) #goptaxscam: 1\n",
      "11) 22,115: 1\n",
      "12) #seasoning: 1\n",
      "13) https://t.co/brxcm3agua: 1\n",
      "14) https://t.co/i52bhgr012: 1\n",
      "15) time.ãâ: 1\n",
      "16) @orlandomayor: 1\n",
      "17) https://t.co/abewlpih34: 1\n",
      "18) ?canalys: 1\n",
      "19) #studiocity: 1\n",
      "20) https://t.co/apr3lm4hct: 1\n"
     ]
    }
   ],
   "source": [
    "from random import choice\n",
    "\n",
    "tokens_sorted_asc = sorted(tokens.items(), key=lambda x: x[1])\n",
    "\n",
    "cnt = 0 # Количество токенов с количеством использования, равного 1.\n",
    "while tokens_sorted_asc[cnt][1] == 1:\n",
    "    cnt += 1\n",
    "\n",
    "tokens_one_usage = tokens_sorted_asc[:cnt]\n",
    "tokens_unpplr_top20 = [choice(tokens_one_usage) for _ in range(20)]\n",
    "\n",
    "print(\"Топ-20 самых непопулярных слов\")\n",
    "i = 1\n",
    "for token in tokens_unpplr_top20:\n",
    "    word, cnt = token\n",
    "    print(f\"{i}) {word}: {cnt}\")\n",
    "    i += 1"
   ]
  },
  {
   "cell_type": "markdown",
   "metadata": {
    "id": "uRp3J1gQunlR"
   },
   "source": [
    "**Ответ:** \n",
    "* Местечковые ссылки, которые могут ссылаться на непопулярные видео, статьи, посты в других социальных сетях. \n",
    "* Отметки других людей, например, своих близких, друзей или коллег по работе.\n",
    "* Хештеги, описывающие непопулярные места (маленькие города, речки, регионы) и события, и хештеги-фразы.\n",
    "* Фразы на непопулярных языках.\n",
    "* Слова, скрепленные знаком(-ами) препинания или слово с знаком препинания после.\n",
    "\n",
    "Определенно нужна работа, например, со словами, скрепленными с знаками препинания. По сути их нужно отделять, так как вкупе они не несут никакого смысла и снижают статистику использования слова.\n"
   ]
  },
  {
   "cell_type": "markdown",
   "metadata": {
    "id": "wx9LQOSPzvjV"
   },
   "source": [
    "Теперь воспользуемся токенайзером получше — TweetTokenizer из библиотеки nltk. Примените его и посмотрите на топ-10 популярных слов. Чем он отличается от топа, который получался раньше? Почему?"
   ]
  },
  {
   "cell_type": "code",
   "execution_count": 1561,
   "metadata": {
    "id": "2G1UkyVxzvFY"
   },
   "outputs": [
    {
     "name": "stdout",
     "output_type": "stream",
     "text": [
      "Топ-10 самых популярных слов по версии TweetTokenizer:\n",
      "1) the: 26993\n",
      "2) .: 24118\n",
      "3) to: 23478\n",
      "4) ,: 17571\n",
      "5) and: 14825\n",
      "6) of: 13044\n",
      "7) a: 11891\n",
      "8) in: 11348\n",
      "9) ?: 9524\n",
      "10) #coronavirus: 8808\n"
     ]
    }
   ],
   "source": [
    "from nltk.tokenize import TweetTokenizer\n",
    "\n",
    "tw = TweetTokenizer()\n",
    "tweets_tokenized = [tw.tokenize(tweet.lower()) for tweet in train['OriginalTweet']]\n",
    "tokens_tweet_tokenizer = {}\n",
    "\n",
    "for tweet_tokenized in tweets_tokenized:\n",
    "    for word in tweet_tokenized:\n",
    "        if word not in tokens_tweet_tokenizer:\n",
    "            tokens_tweet_tokenizer[word] = 1\n",
    "        else:\n",
    "            tokens_tweet_tokenizer[word] += 1\n",
    "\n",
    "tokens_tweet_tokenizer_sorted_desc = sorted(tokens_tweet_tokenizer.items(), key=lambda x: x[1], reverse=True)\n",
    "tokens_tweet_tokenizer_pplr_top10 = tokens_tweet_tokenizer_sorted_desc[:10]\n",
    "\n",
    "print(\"Топ-10 самых популярных слов по версии TweetTokenizer:\") # в дальнейшем я не буду упоминать TweetTokenizer.\n",
    "i = 1\n",
    "for token in tokens_tweet_tokenizer_pplr_top10:\n",
    "    word, cnt = token\n",
    "    print(f\"{i}) {word}: {cnt}\")\n",
    "    i += 1"
   ]
  },
  {
   "cell_type": "markdown",
   "metadata": {
    "id": "50eVUnJN1Zxl"
   },
   "source": [
    "**Ответ:** Отличается тем, что TweetTokenizer открепил знаки препинания от слов, и теперь наиболее популярные знаки препинания, а именно <i>точка, запятая и вопросительный знак</i> вошли в топ-10 токенов, вытеснив коронавирус, предлоги и формы глагола to be."
   ]
  },
  {
   "cell_type": "markdown",
   "metadata": {
    "id": "1gqQgiMs11bs"
   },
   "source": [
    "Удалите из словаря стоп-слова и пунктуацию, посмотрите на новый топ-10 слов с количеством встреч, есть ли теперь в нем что-то не похожее на слова?"
   ]
  },
  {
   "cell_type": "code",
   "execution_count": 1564,
   "metadata": {
    "id": "0yHWdFrp0Mup"
   },
   "outputs": [
    {
     "name": "stdout",
     "output_type": "stream",
     "text": [
      "          Token  Count\n",
      "0  #coronavirus   8808\n",
      "1             â   7415\n",
      "2                7311\n",
      "3            19   7167\n",
      "4         covid   6253\n",
      "5        prices   4601\n",
      "6                4372\n",
      "7          food   4367\n",
      "8         store   3877\n",
      "9   supermarket   3805\n",
      "\n",
      " '  Token  Count\n",
      "7  food   4367'\n"
     ]
    }
   ],
   "source": [
    "from string import punctuation\n",
    "\n",
    "noise = stopwords.words(\"english\") + list(punctuation)\n",
    "\n",
    "for token in noise:\n",
    "    if token in tokens_tweet_tokenizer:\n",
    "        del tokens_tweet_tokenizer[token]\n",
    "\n",
    "tokens_tweet_tokenizer_sorted_desc = sorted(tokens_tweet_tokenizer.items(), key=lambda x: x[1], reverse=True)\n",
    "tokens_tweet_tokenizer_pplr_top10 = pd.DataFrame(tokens_tweet_tokenizer_sorted_desc[:10], columns=['Token', 'Count'])\n",
    "\n",
    "print(tokens_tweet_tokenizer_pplr_top10)\n",
    "\n",
    "print(f\"\\n '{tokens_tweet_tokenizer_pplr_top10[7:8]}'\")"
   ]
  },
  {
   "cell_type": "markdown",
   "metadata": {
    "id": "8ZJqXELP_Yxy"
   },
   "source": [
    "**Ответ:** Пропали артикли и предлоги. Вернулись те же слова, что и при обычном токенизаторе: #coronavirus, prices, COVID, food, store. <i>19</i> — потому что люди часто писали <i>covid 19</i> раздельно. <i>I</i> — люди части пишут в твиттах о себе, что сегодня забавное/радостное/плохое с ними случилось, что они сделали или, когда говорят о своих чувствах. По поводу <i>\\x92</i>, я не мог понять, что это и оно не гуглилось, поэтому я обратился в гпт, и он сказал, что это некорректно отображенный апостроф. Это точно имеет смысл, потому что в английском языке апостроф используется для сокращения форм глагола to be и do при отрицании. Аналогичная ситуация с <i>Â</i>."
   ]
  },
  {
   "cell_type": "markdown",
   "metadata": {
    "id": "rzXjMsSB_kXB"
   },
   "source": [
    "Скорее всего в некоторых топах были неотображаемые символы или отдельные буквы не латинского алфавита. Уберем их: удалите из словаря токены из одного символа, позиция которого в таблице Unicode 128 и более (`ord(x) >= 128`)\n",
    "\n",
    "Выведите топ-10 самых популярных и топ-20 непопулярных слов. Чем полученные топы отличаются от итоговых топов, полученных при использовании токенизации по пробелам? Что теперь лучше, а что хуже?"
   ]
  },
  {
   "cell_type": "code",
   "execution_count": 1569,
   "metadata": {
    "id": "1695hlkS_1-J"
   },
   "outputs": [
    {
     "name": "stdout",
     "output_type": "stream",
     "text": [
      "Топ-10 самых популярных слов за исключением стоп-слов, пунктуации и токенов из одного символа со значением в таблице Unicode 128 или более:\n",
      "          Token  Count\n",
      "0  #coronavirus   8808\n",
      "1            19   7167\n",
      "2         covid   6253\n",
      "3        prices   4601\n",
      "4          food   4367\n",
      "5         store   3877\n",
      "6   supermarket   3805\n",
      "7       grocery   3523\n",
      "8        people   3463\n",
      "9      #covid19   2589\n",
      "\n",
      "Топ-20 самых непопулярных слов за исключением стоп-слов, пунктуации и токенов из одного символа со значением в таблице Unicode 128 или более:\n",
      "                      Token  Count\n",
      "0                  #loyalty      1\n",
      "1   https://t.co/gaqzx4q0kz      1\n",
      "2                 wildfires      1\n",
      "3                     fries      1\n",
      "4                      4all      1\n",
      "5           #fastestgrowing      1\n",
      "6                  unfunded      1\n",
      "7   https://t.co/psykgnogyp      1\n",
      "8   https://t.co/utzkg90nzi      1\n",
      "9                   binding      1\n",
      "10              @politikurd      1\n",
      "11  https://t.co/om9hgukwfu      1\n",
      "12                  #newark      1\n",
      "13                 mindedly      1\n",
      "14  https://t.co/9myqgxutuu      1\n",
      "15           #foxandfriends      1\n",
      "16     #searsroebuckcatalog      1\n",
      "17  https://t.co/bk6bmacqk9      1\n",
      "18           @londonjamrecs      1\n",
      "19  https://t.co/go8xpxezln      1\n"
     ]
    }
   ],
   "source": [
    "filtered_tokens_tweet_tokenizer = tokens_tweet_tokenizer.copy()\n",
    "for token in tokens_tweet_tokenizer:\n",
    "    if len(token) == 1:\n",
    "        if ord(token) >= 128:\n",
    "            del filtered_tokens_tweet_tokenizer[token]\n",
    "\n",
    "filtered_tokens_tweet_tokenizer_desc = sorted(filtered_tokens_tweet_tokenizer.items(), key=lambda x: x[1], reverse=True)\n",
    "filtered_tokens_tweet_tokenizer_pplr_top10 = pd.DataFrame(filtered_tokens_tweet_tokenizer_desc[:10], columns=['Token', 'Count'])\n",
    "\n",
    "print(\"Топ-10 самых популярных слов за исключением стоп-слов, пунктуации и токенов из одного символа со значением в таблице Unicode 128 или более:\")\n",
    "print(filtered_tokens_tweet_tokenizer_pplr_top10)\n",
    "filtered_tokens_tweet_tokenizer_asc = sorted(filtered_tokens_tweet_tokenizer.items(), key=lambda x: x[1])\n",
    "\n",
    "cnt = 0 # Количество токенов с количеством использования, равного 1.\n",
    "while filtered_tokens_tweet_tokenizer_asc[cnt][1] == 1:\n",
    "    filtered_tokens_tweet_tokenizer_asc[cnt][1]\n",
    "    cnt += 1\n",
    "\n",
    "filtered_tokens_one_usage = filtered_tokens_tweet_tokenizer_asc[:cnt]\n",
    "filtered_tokens_unpplr_top20 = pd.DataFrame([choice(filtered_tokens_one_usage) for _ in range(20)], columns=['Token', 'Count'])\n",
    "\n",
    "print(\"\\nТоп-20 самых непопулярных слов за исключением стоп-слов, пунктуации и токенов из одного символа со значением в таблице Unicode 128 или более:\")\n",
    "i = 1\n",
    "print(filtered_tokens_unpplr_top20)"
   ]
  },
  {
   "cell_type": "markdown",
   "metadata": {
    "id": "KzjHAKIlDvc6"
   },
   "source": [
    "**Ответ:**\n",
    "* Отличается тем, что в полученном топе взлетело по популярности слово <i>I</i> за счет того, что его зачастую используют вместе с сокращенным артиклем <i>I'm</i>, а TweetTokenizer воспринимает пунктуацию, как отдельный токен. Также видно, как увеличились счетчики количества токенов обычных слов, потому что они были откреплены от пунктуации. НО, так как TweetTokenizer воспринимает дефис как пунктуацию, то в топы залетело число <i>19</i>, потому что его использовали в контексте <i>covid-19</i>.\n",
    "* Относительно наименее встречающихся токенов особо ничего не изменилось. Остались те же ссылки, отметки, редкие хештеги. Пропали лишь слова со странной пунктуацией с многоточием и другими знаками."
   ]
  },
  {
   "cell_type": "markdown",
   "metadata": {
    "id": "EcDf9_6HB2zm"
   },
   "source": [
    "Выведите топ-10 популярных хештегов (токены, первые символы которых - #) с количеством встреч. Что можно сказать о них?"
   ]
  },
  {
   "cell_type": "code",
   "execution_count": 1573,
   "metadata": {
    "id": "zk4fygCUBw3l"
   },
   "outputs": [
    {
     "data": {
      "text/html": [
       "<div>\n",
       "<style scoped>\n",
       "    .dataframe tbody tr th:only-of-type {\n",
       "        vertical-align: middle;\n",
       "    }\n",
       "\n",
       "    .dataframe tbody tr th {\n",
       "        vertical-align: top;\n",
       "    }\n",
       "\n",
       "    .dataframe thead th {\n",
       "        text-align: right;\n",
       "    }\n",
       "</style>\n",
       "<table border=\"1\" class=\"dataframe\">\n",
       "  <thead>\n",
       "    <tr style=\"text-align: right;\">\n",
       "      <th></th>\n",
       "      <th>Token</th>\n",
       "      <th>Count</th>\n",
       "    </tr>\n",
       "  </thead>\n",
       "  <tbody>\n",
       "    <tr>\n",
       "      <th>0</th>\n",
       "      <td>#coronavirus</td>\n",
       "      <td>8808</td>\n",
       "    </tr>\n",
       "    <tr>\n",
       "      <th>1</th>\n",
       "      <td>19</td>\n",
       "      <td>7167</td>\n",
       "    </tr>\n",
       "    <tr>\n",
       "      <th>2</th>\n",
       "      <td>covid</td>\n",
       "      <td>6253</td>\n",
       "    </tr>\n",
       "    <tr>\n",
       "      <th>3</th>\n",
       "      <td>prices</td>\n",
       "      <td>4601</td>\n",
       "    </tr>\n",
       "    <tr>\n",
       "      <th>4</th>\n",
       "      <td>food</td>\n",
       "      <td>4367</td>\n",
       "    </tr>\n",
       "    <tr>\n",
       "      <th>5</th>\n",
       "      <td>store</td>\n",
       "      <td>3877</td>\n",
       "    </tr>\n",
       "    <tr>\n",
       "      <th>6</th>\n",
       "      <td>supermarket</td>\n",
       "      <td>3805</td>\n",
       "    </tr>\n",
       "    <tr>\n",
       "      <th>7</th>\n",
       "      <td>grocery</td>\n",
       "      <td>3523</td>\n",
       "    </tr>\n",
       "    <tr>\n",
       "      <th>8</th>\n",
       "      <td>people</td>\n",
       "      <td>3463</td>\n",
       "    </tr>\n",
       "    <tr>\n",
       "      <th>9</th>\n",
       "      <td>#covid19</td>\n",
       "      <td>2589</td>\n",
       "    </tr>\n",
       "  </tbody>\n",
       "</table>\n",
       "</div>"
      ],
      "text/plain": [
       "          Token  Count\n",
       "0  #coronavirus   8808\n",
       "1            19   7167\n",
       "2         covid   6253\n",
       "3        prices   4601\n",
       "4          food   4367\n",
       "5         store   3877\n",
       "6   supermarket   3805\n",
       "7       grocery   3523\n",
       "8        people   3463\n",
       "9      #covid19   2589"
      ]
     },
     "execution_count": 1573,
     "metadata": {},
     "output_type": "execute_result"
    }
   ],
   "source": [
    "top10_hashtags = pd.DataFrame(filtered_tokens_tweet_tokenizer_desc[:10], columns=['Token', 'Count'])\n",
    "top10_hashtags"
   ]
  },
  {
   "cell_type": "markdown",
   "metadata": {
    "id": "-6NeNWBkDxM7"
   },
   "source": [
    "**Ответ:** 8/10 хештегов связаны с названием вируса в том или ином написании. Причем оставшийся тоже связан с ковидом. Все из-за аномального высокого спроса на туалетную бумагу в разгар эпидемии."
   ]
  },
  {
   "cell_type": "markdown",
   "metadata": {
    "id": "LLYBg7caD5GA"
   },
   "source": [
    "То же самое проделайте для ссылок на сайт https://t.co Сравнима ли популярность ссылок с популярностью хештегов? Будет ли информация о ссылке на конкретную страницу полезна?"
   ]
  },
  {
   "cell_type": "code",
   "execution_count": 1577,
   "metadata": {
    "id": "MXbm1oeaCK9S"
   },
   "outputs": [
    {
     "name": "stdout",
     "output_type": "stream",
     "text": [
      "1) https://t.co/oxa7swtond: 5\n",
      "2) https://t.co/gp3eusapl8: 4\n",
      "3) https://t.co/deftrui1pfãâ: 3\n",
      "4) https://t.co/wrlhyzizaa: 3\n",
      "5) https://t.co/kuwipf1kqw: 3\n",
      "6) https://t.co/zjnrx6dkkn: 3\n",
      "7) https://t.co/3gbbdpdjat: 3\n",
      "8) https://t.co/e2znxajpre: 3\n",
      "9) https://t.co/catkegayoy: 3\n",
      "10) https://t.co/g63rp042ho: 3\n"
     ]
    }
   ],
   "source": [
    "i = 1\n",
    "for token in filtered_tokens_tweet_tokenizer_desc:\n",
    "    word, cnt = token\n",
    "    if word[:12] == 'https://t.co':\n",
    "        print(f\"{i}) {word}: {cnt}\")\n",
    "        i += 1\n",
    "\n",
    "    if i == 11:\n",
    "        break"
   ]
  },
  {
   "cell_type": "markdown",
   "metadata": {
    "id": "at6lRYZ8A07N"
   },
   "source": [
    "**Ответ:** Хештеги в сотни раз популярнее. Сайты, которые у меня получилось открыть, также напрямую или косвенно связаны с ковидом. Учитывая такую низкую популярность (что аж самая популярная ссылка была упомянута лишь в 5 твиттах), рассматривать ссылки бесполезно."
   ]
  },
  {
   "cell_type": "markdown",
   "metadata": {
    "id": "IOGdUU1kBU1D"
   },
   "source": [
    "Используем опыт предыдущих экспериментов и напишем собственный токенайзер, улучшив TweetTokenizer. Функция tokenize должна:\n",
    "\n",
    "\n",
    "\n",
    "*   Привести текст в нижний регистр\n",
    "*   Применить TweetTokenizer для  выделения токенов\n",
    "*   Удалить стоп-слова, пунктуацию, токены из одного символа с позицией в таблице Unicode 128 и более,  ссылки на t.co\n",
    "\n"
   ]
  },
  {
   "cell_type": "code",
   "execution_count": 1591,
   "metadata": {
    "id": "ctEsB6xkFrrK"
   },
   "outputs": [],
   "source": [
    "def custom_tokenizer(text):\n",
    "    text = text.lower()\n",
    "    tokens = tw.tokenize(text)\n",
    "    noise = stopwords.words(\"english\") + list(punctuation)\n",
    "    \n",
    "    tokens = [token for token in tokens if token not in noise and not token.startswith(\"https://t.co/\")]\n",
    "    tokens = [token for token in tokens if not (len(token) == 1 and ord(token) >= 128)]\n",
    "    \n",
    "    return tokens\n"
   ]
  },
  {
   "cell_type": "code",
   "execution_count": 1593,
   "metadata": {
    "colab": {
     "base_uri": "https://localhost:8080/"
    },
    "id": "XwbgtYkJGYym",
    "outputId": "5808765b-3448-45e6-ccc1-7cd65f6371ef"
   },
   "outputs": [
    {
     "data": {
      "text/plain": [
       "['sample', 'text', '@sample_text', '#sampletext']"
      ]
     },
     "execution_count": 1593,
     "metadata": {},
     "output_type": "execute_result"
    }
   ],
   "source": [
    "custom_tokenizer('This is sample text!!!! @Sample_text I, \\x92\\x92 https://t.co/sample  #sampletext')"
   ]
  },
  {
   "cell_type": "markdown",
   "metadata": {
    "id": "wURVABmXHk97"
   },
   "source": [
    "## Задание 3 Векторизация текстов (2 балла)"
   ]
  },
  {
   "cell_type": "markdown",
   "metadata": {
    "id": "H44iXkoHIQfN"
   },
   "source": [
    "Обучите CountVectorizer с использованием custom_tokenizer в качестве токенайзера. Как размер полученного словаря соотносится с размером изначального словаря из начала задания 2?"
   ]
  },
  {
   "cell_type": "code",
   "execution_count": 1599,
   "metadata": {
    "colab": {
     "base_uri": "https://localhost:8080/"
    },
    "id": "gHn_limQl3BI",
    "outputId": "8e9c1826-319f-4376-f06e-c30c2eb82648"
   },
   "outputs": [
    {
     "name": "stdout",
     "output_type": "stream",
     "text": [
      "Количество токенов при простой токенизации: 79755\n",
      "Количество токенов при CountVectorizer: 45290\n",
      "Количество токенов при использовании CountVectorizer в 0.57 раза меньше, чем при простой токенизации\n"
     ]
    }
   ],
   "source": [
    "from sklearn.feature_extraction.text import CountVectorizer\n",
    "\n",
    "cv = CountVectorizer(tokenizer=custom_tokenizer, token_pattern=None)\n",
    "X_cv = cv.fit_transform(train[\"OriginalTweet\"])\n",
    "\n",
    "print(f\"Количество токенов при простой токенизации: {len(tokens)}\")\n",
    "print(f\"Количество токенов при CountVectorizer: {len(cv.vocabulary_)}\")\n",
    "print(f\"Количество токенов при использовании CountVectorizer в {round(len(cv.vocabulary_) / len(tokens), 2)} раза меньше, чем при простой токенизации\")"
   ]
  },
  {
   "cell_type": "markdown",
   "metadata": {
    "id": "gsfmaSGoItUm"
   },
   "source": [
    "**Ответ:** Словарь меньше в 0.57 раз."
   ]
  },
  {
   "cell_type": "markdown",
   "metadata": {
    "id": "lm6UHNmqKZT0"
   },
   "source": [
    "Посмотрим на какой-нибудь конкретный твитт:"
   ]
  },
  {
   "cell_type": "code",
   "execution_count": 1603,
   "metadata": {
    "id": "aJVjjfqOJh8m"
   },
   "outputs": [
    {
     "data": {
      "text/plain": [
       "('Nice one @SkyNews lets not panic but show ppl in france queueing for food!!! #CoronavirusOutbreak #COVID2019 brainless!! Ffs',\n",
       " 0)"
      ]
     },
     "execution_count": 1603,
     "metadata": {},
     "output_type": "execute_result"
    }
   ],
   "source": [
    "ind = 9023\n",
    "train.iloc[ind]['OriginalTweet'], train.iloc[ind]['Sentiment']"
   ]
  },
  {
   "cell_type": "markdown",
   "metadata": {
    "id": "PBMIHBI5KdaS"
   },
   "source": [
    "Автор твитта не доволен ситуацией с едой во Франции и текст имеет резко негативную окраску.\n",
    "\n",
    "Примените обученный CountVectorizer для векторизации данного текста, и попытайтесь определить самый важный токен и самый неважный токен (токен, компонента которого в векторе максимальна/минимальна, без учета 0). Хорошо ли они определились, почему?"
   ]
  },
  {
   "cell_type": "code",
   "execution_count": 1606,
   "metadata": {
    "id": "7NcAllaEKsJj"
   },
   "outputs": [
    {
     "name": "stdout",
     "output_type": "stream",
     "text": [
      "                   Token  Count\n",
      "0   #coronavirusoutbreak      1\n",
      "1             #covid2019      1\n",
      "2               @skynews      1\n",
      "3              brainless      1\n",
      "4                    ffs      1\n",
      "5                   food      1\n",
      "6                 france      1\n",
      "7                   lets      1\n",
      "8                   nice      1\n",
      "9                    one      1\n",
      "10                 panic      1\n",
      "11                   ppl      1\n",
      "12              queueing      1\n",
      "13                  show      1 \n",
      "\n",
      "Самый важный токен: #coronavirusoutbreak\n",
      "Самый неважный токен: #coronavirusoutbreak\n"
     ]
    }
   ],
   "source": [
    "tweet = train.iloc[ind]['OriginalTweet']\n",
    "feature_names = cv.get_feature_names_out()\n",
    "X_new = cv.transform([tweet])\n",
    "\n",
    "vector = X_new.toarray()[0]\n",
    "non_zero = {\n",
    "    word: count \n",
    "    for word, count in zip(feature_names, vector) \n",
    "    if count > 0\n",
    "}\n",
    "\n",
    "most_important = max(non_zero.items(), key=lambda x: x[1])\n",
    "least_important = min(non_zero.items(), key=lambda x: x[1])\n",
    "\n",
    "print(pd.DataFrame(list(non_zero.items()), columns=['Token', 'Count']), '\\n')\n",
    "print(f\"Самый важный токен: {most_important[0]}\\nСамый неважный токен: {least_important[0]}\")"
   ]
  },
  {
   "cell_type": "markdown",
   "metadata": {
    "id": "TpEsl1k_NF4T"
   },
   "source": [
    "**Ответ:** Самым важным и неважным токеном является <i>#coronavirusoutbreak</i>, так как все слова встречаются по одному разу, соответственно, случайное слово выбирается."
   ]
  },
  {
   "cell_type": "markdown",
   "metadata": {
    "id": "w4DsEQpLO3J6"
   },
   "source": [
    "Теперь примените TfidfVectorizer и  определите самый важный/неважный токены. Хорошо ли определились, почему?"
   ]
  },
  {
   "cell_type": "code",
   "execution_count": 1611,
   "metadata": {
    "id": "uSNzdK3ENGB3"
   },
   "outputs": [
    {
     "name": "stdout",
     "output_type": "stream",
     "text": [
      "Самый важный токен: brainless\n",
      "Самый неважный токен: in\n"
     ]
    }
   ],
   "source": [
    "from sklearn.feature_extraction.text import TfidfVectorizer\n",
    "\n",
    "tfidf_vec = TfidfVectorizer()\n",
    "X_tfidf = tfidf_vec.fit_transform(train[\"OriginalTweet\"])\n",
    "feature_names = tfidf_vec.get_feature_names_out()\n",
    "\n",
    "X_new = tfidf_vec.transform([tweet])\n",
    "\n",
    "vector = X_new.toarray()[0]\n",
    "non_zero = {\n",
    "    word: count \n",
    "    for word, count in zip(feature_names, vector) \n",
    "    if count > 0\n",
    "}\n",
    "\n",
    "most_important = max(non_zero.items(), key=lambda x: x[1])\n",
    "least_important = min(non_zero.items(), key=lambda x: x[1])\n",
    "\n",
    "print(f\"Самый важный токен: {most_important[0]}\\nСамый неважный токен: {least_important[0]}\")"
   ]
  },
  {
   "cell_type": "markdown",
   "metadata": {
    "id": "NYao_UhqQADm"
   },
   "source": [
    "**Ответ:** Самым важным токеном является <i>brainless</i> переводится как <i>безмозглый, глупый</i>. TfidfVectorizer довольно хорошо определил его важность, так как это слово обычно используется в негативном контексте, а именно при оценке вещей, людей и их действий или решений. TF-IDF также хорошо справился с самым неважным токеном: <i>in</i> — предлог, и он никак не влияет на окраску предложения. "
   ]
  },
  {
   "cell_type": "markdown",
   "metadata": {
    "id": "LGRJPqfWSesQ"
   },
   "source": [
    "Найдите какой-нибудь положительно окрашенный твитт, где TfidfVectorizer хорошо (полезно для определения окраски) выделяет важный токен, поясните пример.\n",
    "\n",
    "*Подсказка:* явно положительные твитты можно искать при помощи положительных слов (good, great, amazing и т. д.)"
   ]
  },
  {
   "cell_type": "code",
   "execution_count": 1615,
   "metadata": {
    "colab": {
     "base_uri": "https://localhost:8080/",
     "height": 53
    },
    "id": "bRbQ2CHiSuJI",
    "outputId": "c4b34a7d-1076-4e1e-ad5c-9466fd2097c2"
   },
   "outputs": [
    {
     "name": "stdout",
     "output_type": "stream",
     "text": [
      "With everything going on with 19 shopping online is the best way to stay safe while still getting what you need Check out this amazing article on how to choose your foundation online  \n"
     ]
    }
   ],
   "source": [
    "tweet = train[train['OriginalTweet'].apply(lambda x: 'amazing' in x) & (train['Sentiment'] == 1)].iloc[5]['OriginalTweet']\n",
    "print(tweet)"
   ]
  },
  {
   "cell_type": "code",
   "execution_count": 1617,
   "metadata": {
    "id": "jSjbKPCWk87K"
   },
   "outputs": [
    {
     "name": "stdout",
     "output_type": "stream",
     "text": [
      "Самый важный токен: foundation\n",
      "Самый неважный токен: the\n"
     ]
    }
   ],
   "source": [
    "X_new = tfidf_vec.transform([tweet])\n",
    "\n",
    "vector = X_new.toarray()[0]\n",
    "non_zero = {\n",
    "    word: count \n",
    "    for word, count in zip(feature_names, vector) \n",
    "    if count > 0\n",
    "}\n",
    "\n",
    "most_important = max(non_zero.items(), key=lambda x: x[1])\n",
    "least_important = min(non_zero.items(), key=lambda x: x[1])\n",
    "\n",
    "print(f\"Самый важный токен: {most_important[0]}\\nСамый неважный токен: {least_important[0]}\")"
   ]
  },
  {
   "cell_type": "markdown",
   "metadata": {
    "id": "JTv9ST2_U6NA"
   },
   "source": [
    "**Ответ:** TfidfVectorizer хорошо выделил самый важен токен <i>foundation</i>, который в данном случае означает тональный крем. <i>Foundation</i> является омонимом, но все равно упоминание тонального крема и других значений слова мало в твиттах. С неважным токеном все также предельно очевидно - это артикль."
   ]
  },
  {
   "cell_type": "markdown",
   "metadata": {
    "id": "JVEuZm8BHms6"
   },
   "source": [
    "## Задание 4 Обучение первых моделей (1 балл)"
   ]
  },
  {
   "cell_type": "markdown",
   "metadata": {
    "id": "JADkO3sfXdOG"
   },
   "source": [
    "Примените оба векторайзера для получения матриц с признаками текстов.  Выделите целевую переменную."
   ]
  },
  {
   "cell_type": "code",
   "execution_count": 1622,
   "metadata": {
    "id": "DguoiXhCX2oN"
   },
   "outputs": [],
   "source": [
    "import pandas as pd\n",
    "from sklearn.feature_extraction.text import CountVectorizer, TfidfVectorizer\n",
    "\n",
    "X_train, X_test, y_train, y_test = train_test_split(df.OriginalTweet, df.Sentiment, stratify=df.Sentiment, random_state=0, test_size=0.3)\n",
    "\n",
    "vec_cv = CountVectorizer()\n",
    "bow_cv= vec_cv.fit_transform(X_train) \n",
    "bow_test_cv = vec_cv.transform(X_test)\n",
    "\n",
    "vec_tfidf = TfidfVectorizer()\n",
    "bow_tfidf= vec_tfidf.fit_transform(X_train) \n",
    "bow_test_tfidf = vec_tfidf.transform(X_test)"
   ]
  },
  {
   "cell_type": "markdown",
   "metadata": {
    "id": "_FX1KSOfYSx4"
   },
   "source": [
    "Обучите логистическую регрессию на векторах из обоих векторайзеров. Посчитайте долю правильных ответов на обучающих и тестовых данных. Какой векторайзер показал лучший результат? Что можно сказать о моделях?\n",
    "\n",
    "Используйте `sparse` матрицы (после векторизации), не превращайте их в `numpy.ndarray` или `pd.DataFrame` - может не хватить памяти."
   ]
  },
  {
   "cell_type": "code",
   "execution_count": 1625,
   "metadata": {
    "id": "-Tb3eh8UXJ6v"
   },
   "outputs": [
    {
     "name": "stdout",
     "output_type": "stream",
     "text": [
      "CountVectorizer's train accuracy: 0.9867\n",
      "CountVectorizer's test accuracy: 0.8801\n",
      "\n",
      "TfidfVectorizer's train accuracy: 0.9117\n",
      "TfidfVectorizer's test accuracy: 0.8488\n",
      "\n",
      "TfidfVectorizer на тестовых данных лучше на 0.9644%\n"
     ]
    }
   ],
   "source": [
    "from sklearn.linear_model import LogisticRegression\n",
    "from sklearn.metrics import accuracy_score\n",
    "from sklearn.metrics import classification_report\n",
    "\n",
    "\n",
    "clf_cv = LogisticRegression(max_iter=200, random_state=0)\n",
    "clf_cv.fit(bow_cv, y_train)\n",
    "y_pred_train_cv = clf_cv.predict(bow_cv)\n",
    "y_pred_test_cv = clf_cv.predict(bow_test_cv)\n",
    "print(f\"CountVectorizer's train accuracy: {round(accuracy_score(y_train, y_pred_train_cv), 4)}\")\n",
    "print(f\"CountVectorizer's test accuracy: {round(accuracy_score(y_test, y_pred_test_cv), 4)}\\n\")\n",
    "\n",
    "clf_tfidf = LogisticRegression(max_iter=200, random_state=0)\n",
    "clf_tfidf.fit(bow_tfidf, y_train)\n",
    "y_pred_train_tfidf = clf_tfidf.predict(bow_tfidf)\n",
    "y_pred_test_tfidf = clf_tfidf.predict(bow_test_tfidf)\n",
    "print(f\"TfidfVectorizer's train accuracy: {round(accuracy_score(y_train, y_pred_train_tfidf), 4)}\")\n",
    "print(f\"TfidfVectorizer's test accuracy: {round(accuracy_score(y_test, y_pred_test_tfidf), 4)}\\n\")\n",
    "\n",
    "print(f\"TfidfVectorizer на тестовых данных лучше на {round(accuracy_score(y_test, y_pred_test_tfidf) / accuracy_score(y_test, y_pred_test_cv), 4)}%\")"
   ]
  },
  {
   "cell_type": "markdown",
   "metadata": {
    "id": "8y_wO7rCmv7K"
   },
   "source": [
    "**Ответ:** CountVectorizer переобучена, а в сравнении с TF-IDF в целом качестве одинаковое."
   ]
  },
  {
   "cell_type": "markdown",
   "metadata": {
    "id": "rSOR1i3mjrys"
   },
   "source": [
    "## Задание 5 Стемминг (0.5 балла)"
   ]
  },
  {
   "cell_type": "markdown",
   "metadata": {
    "id": "i6ONBWNPjuq-"
   },
   "source": [
    "Для уменьшения словаря можно использовать стемминг.\n",
    "\n",
    "Модифицируйте написанный токенайзер, добавив в него стемминг с использованием SnowballStemmer. Обучите Count- и Tfidf- векторайзеры. Как изменился размер словаря?"
   ]
  },
  {
   "cell_type": "code",
   "execution_count": 1630,
   "metadata": {},
   "outputs": [],
   "source": [
    "from nltk.stem.snowball import SnowballStemmer\n",
    "from nltk.tokenize import word_tokenize "
   ]
  },
  {
   "cell_type": "code",
   "execution_count": 1632,
   "metadata": {
    "id": "oVfA2-iMkQBb"
   },
   "outputs": [],
   "source": [
    "noise = stopwords.words(\"english\") + list(punctuation)\n",
    "stemmer = SnowballStemmer(\"english\")\n",
    "\n",
    "def custom_stem_tokenizer(text):\n",
    "    tokens = custom_tokenizer(text)\n",
    "\n",
    "    tokens = [stemmer.stem(word) for word in tokens]\n",
    "    \n",
    "    return tokens"
   ]
  },
  {
   "cell_type": "code",
   "execution_count": 1634,
   "metadata": {
    "colab": {
     "base_uri": "https://localhost:8080/"
    },
    "id": "9QmrjYtqnlPd",
    "outputId": "cd91291d-9676-4611-9fc4-28afaed58963"
   },
   "outputs": [
    {
     "data": {
      "text/plain": [
       "['sampl', 'text', '@sample_text', '#sampletext', 'ad', 'word', 'check', 'stem']"
      ]
     },
     "execution_count": 1634,
     "metadata": {},
     "output_type": "execute_result"
    }
   ],
   "source": [
    "custom_stem_tokenizer('This is sample text!!!! @Sample_text I, \\x92\\x92 https://t.co/sample  #sampletext adding more words to check stemming')"
   ]
  },
  {
   "cell_type": "code",
   "execution_count": 1636,
   "metadata": {
    "colab": {
     "base_uri": "https://localhost:8080/"
    },
    "id": "zAvUTmaplzOS",
    "outputId": "566207fe-183b-4ed6-d333-f86f0cc9ae38"
   },
   "outputs": [
    {
     "name": "stdout",
     "output_type": "stream",
     "text": [
      "53135\n",
      "36917\n",
      "Размер словаря уменьшился в 0.69 раз\n"
     ]
    }
   ],
   "source": [
    "vec_cv_custom = CountVectorizer(tokenizer=custom_stem_tokenizer, token_pattern=None)\n",
    "bow_cv = vec_cv_custom.fit_transform(X_train) \n",
    "bow_test_cv = vec_cv_custom.transform(X_test)\n",
    "\n",
    "vec_tfidf_custom = TfidfVectorizer(tokenizer=custom_stem_tokenizer, token_pattern=None)\n",
    "bow_tfidf= vec_tfidf_custom.fit_transform(X_train) \n",
    "bow_test_tfidf = vec_tfidf_custom.transform(X_test)\n",
    "\n",
    "print(len(vec_cv.vocabulary_))\n",
    "print(len(vec_cv_custom.vocabulary_))\n",
    "print(f\"Размер словаря уменьшился в {round(len(vec_cv_custom.vocabulary_) / len(vec_cv.vocabulary_), 2)} раз\")"
   ]
  },
  {
   "cell_type": "markdown",
   "metadata": {
    "id": "Oyzs5TaAoHP6"
   },
   "source": [
    "**Ответ** Размер словаря уменьшился в 0.69 раз."
   ]
  },
  {
   "cell_type": "markdown",
   "metadata": {
    "id": "1OkncHI8oRmd"
   },
   "source": [
    "Обучите логистическую регрессию с использованием обоих векторайзеров. Изменилось ли качество? Есть ли смысл применять стемминг?"
   ]
  },
  {
   "cell_type": "code",
   "execution_count": 1639,
   "metadata": {
    "id": "ykZJPphEoZ5W"
   },
   "outputs": [
    {
     "name": "stdout",
     "output_type": "stream",
     "text": [
      "CountVectorizer's train accuracy: 0.9714\n",
      "CountVectorizer's test accuracy: 0.8712\n",
      "\n",
      "TfidfVectorizer's train accuracy: 0.9174\n",
      "TfidfVectorizer's test accuracy: 0.8593\n",
      "\n",
      "TfidfVectorizer на тестовых данных лучше на 0.9863%\n"
     ]
    }
   ],
   "source": [
    "clf_cv = LogisticRegression(max_iter=200, random_state=0)\n",
    "clf_cv.fit(bow_cv, y_train)\n",
    "y_pred_train_cv = clf_cv.predict(bow_cv)\n",
    "y_pred_test_cv = clf_cv.predict(bow_test_cv)\n",
    "print(f\"CountVectorizer's train accuracy: {round(accuracy_score(y_train, y_pred_train_cv), 4)}\")\n",
    "print(f\"CountVectorizer's test accuracy: {round(accuracy_score(y_test, y_pred_test_cv), 4)}\\n\")\n",
    "\n",
    "\n",
    "clf_tfidf = LogisticRegression(max_iter=200, random_state=0)\n",
    "clf_tfidf.fit(bow_tfidf, y_train)\n",
    "y_pred_train_tfidf = clf_tfidf.predict(bow_tfidf)\n",
    "y_pred_test_tfidf = clf_tfidf.predict(bow_test_tfidf)\n",
    "print(f\"TfidfVectorizer's train accuracy: {round(accuracy_score(y_train, y_pred_train_tfidf), 4)}\")\n",
    "print(f\"TfidfVectorizer's test accuracy: {round(accuracy_score(y_test, y_pred_test_tfidf), 4)}\\n\")\n",
    "\n",
    "print(f\"TfidfVectorizer на тестовых данных лучше на {round(accuracy_score(y_test, y_pred_test_tfidf) / accuracy_score(y_test, y_pred_test_cv), 4)}%\")"
   ]
  },
  {
   "cell_type": "markdown",
   "metadata": {
    "id": "bCRlrODro0h8"
   },
   "source": [
    "**Ответ:** Результаты на обучающих данных остались практически на прежнем уровне, поэтому нет смысла применять стемминг."
   ]
  },
  {
   "cell_type": "markdown",
   "metadata": {
    "id": "hYWGQNEDqLC-"
   },
   "source": [
    "## Задание  6 Работа с частотами (1.5 балла)"
   ]
  },
  {
   "cell_type": "markdown",
   "metadata": {
    "id": "8Hq-tl5mqUSn"
   },
   "source": [
    "Еще один способ уменьшить количество признаков - это использовать параметры min_df и max_df при построении векторайзера  эти параметры помогают ограничить требуемую частоту встречаемости токена в документах.\n",
    "\n",
    "По умолчанию берутся все токены, которые встретились хотя бы один раз.\n",
    "\n"
   ]
  },
  {
   "cell_type": "markdown",
   "metadata": {
    "id": "m1SiD4DE3WZ2"
   },
   "source": [
    "Подберите max_df такой, что размер словаря будет 36651 (на 1 меньше, чем было). Почему параметр получился такой большой/маленький?"
   ]
  },
  {
   "cell_type": "code",
   "execution_count": 1644,
   "metadata": {
    "colab": {
     "base_uri": "https://localhost:8080/"
    },
    "id": "o3YLb8PViExb",
    "outputId": "b6d67654-d232-4e11-a5ca-6f2145053e98"
   },
   "outputs": [
    {
     "name": "stdout",
     "output_type": "stream",
     "text": [
      "36916\n"
     ]
    }
   ],
   "source": [
    "cv_df = CountVectorizer(tokenizer=custom_stem_tokenizer, \n",
    "                        token_pattern=None, \n",
    "                        max_df=0.3,\n",
    "                        min_df=1\n",
    "                        ).fit(X_train)\n",
    "print(len(cv_df.vocabulary_))"
   ]
  },
  {
   "cell_type": "markdown",
   "metadata": {},
   "source": [
    "Я думаю, что получился такой max_df, так как очень мало токенов, которые встречаются в более, чем ~30% твиттах. Полагаю, что это слово/хештег коронавирус."
   ]
  },
  {
   "cell_type": "code",
   "execution_count": 1646,
   "metadata": {
    "id": "tyEpkJUkjnuK"
   },
   "outputs": [
    {
     "name": "stdout",
     "output_type": "stream",
     "text": [
      "CountVectorizer's train accuracy: 0.9715\n",
      "CountVectorizer's test accuracy: 0.8711\n",
      "\n"
     ]
    }
   ],
   "source": [
    "bow_cv_df = cv_df.fit_transform(X_train) \n",
    "bow_test_cv_df = cv_df.transform(X_test)\n",
    "\n",
    "clf_cv_df = LogisticRegression(max_iter=200, random_state=0)\n",
    "clf_cv_df.fit(bow_cv_df, y_train)\n",
    "y_pred_train_cv_df = clf_cv_df.predict(bow_cv_df)\n",
    "y_pred_test_cv_df = clf_cv_df.predict(bow_test_cv_df)\n",
    "print(f\"CountVectorizer's train accuracy: {round(accuracy_score(y_train, y_pred_train_cv_df), 4)}\")\n",
    "print(f\"CountVectorizer's test accuracy: {round(accuracy_score(y_test, y_pred_test_cv_df), 4)}\\n\")"
   ]
  },
  {
   "cell_type": "markdown",
   "metadata": {
    "id": "UdZYoGZR4UsA"
   },
   "source": [
    "**Ответ:** Я думаю, что получился такой max_df, так как очень мало токенов, которые встречаются в более, чем ~30% твиттах. Полагаю, что это слово/хештег коронавирус. Качество не изменилось, так как все-таки мы убрали всего один токен на фоне 36633 остальных."
   ]
  },
  {
   "cell_type": "markdown",
   "metadata": {
    "id": "_gRIUaB1u32f"
   },
   "source": [
    "Подберите min_df (используйте дефолтное значение max_df) в CountVectorizer таким образом, чтобы размер словаря был 3700 токенов (при использовании токенайзера со стеммингом), а качество осталось таким же, как и было. Что можно сказать о результатах?"
   ]
  },
  {
   "cell_type": "code",
   "execution_count": 1649,
   "metadata": {
    "id": "mvMDwpdfjm8Y"
   },
   "outputs": [
    {
     "name": "stdout",
     "output_type": "stream",
     "text": [
      "3674\n"
     ]
    }
   ],
   "source": [
    "cv_df = CountVectorizer(tokenizer=custom_stem_tokenizer,\n",
    "                        token_pattern=None, \n",
    "                        min_df=0.00044\n",
    "                        ).fit(X_train)\n",
    "print(len(cv_df.vocabulary_))"
   ]
  },
  {
   "cell_type": "code",
   "execution_count": 1650,
   "metadata": {},
   "outputs": [
    {
     "name": "stdout",
     "output_type": "stream",
     "text": [
      "CountVectorizer's train accuracy: 0.9283\n",
      "CountVectorizer's test accuracy: 0.8663\n",
      "\n"
     ]
    }
   ],
   "source": [
    "bow_cv_df = cv_df.fit_transform(X_train) \n",
    "bow_test_cv_df = cv_df.transform(X_test)\n",
    "\n",
    "\n",
    "clf_cv_df = LogisticRegression(max_iter=200, random_state=0)\n",
    "clf_cv_df.fit(bow_cv_df, y_train)\n",
    "y_pred_train_cv_df = clf_cv_df.predict(bow_cv_df)\n",
    "y_pred_test_cv_df = clf_cv_df.predict(bow_test_cv_df)\n",
    "print(f\"CountVectorizer's train accuracy: {round(accuracy_score(y_train, y_pred_train_cv_df), 4)}\")\n",
    "print(f\"CountVectorizer's test accuracy: {round(accuracy_score(y_test, y_pred_test_cv_df), 4)}\\n\") "
   ]
  },
  {
   "cell_type": "markdown",
   "metadata": {
    "id": "3fGYpUIZx0fk"
   },
   "source": [
    "**Ответ:** Я нашел максимально подходящее <i>min_df=0.00044</i>, что размер словаря наиболее близок к 3700 Здесь уже качество на обучающей выборке упало на 5 единиц, когда на тестовой сохранилось. Игнорирование редких токенов может действительно повлиять на долю правильных ответов, так как эти токены могут быть редкими, но имеют высокий эмоциональный окрас. Но проигнорированные (редкие) токены в целом могли и не встречаться в тестовой выборке, поэтому качество всего чуть-чуть упало. Переобучение снизилось, а результат на тесте остался."
   ]
  },
  {
   "cell_type": "markdown",
   "metadata": {
    "id": "Gx_h_-inKbBl"
   },
   "source": [
    "В предыдущих заданиях признаки не скалировались. Отскалируйте данные (при словаре размера 3.7 тысяч, векторизованные CountVectorizer), обучите логистическую регрессию, посмотрите качество и выведите `barplot`, содержащий по 10 токенов, с наибольшим по модулю положительными/отрицательными весами. Что можно сказать об этих токенах?"
   ]
  },
  {
   "cell_type": "code",
   "execution_count": 1653,
   "metadata": {
    "id": "KBATXJX6LG9q"
   },
   "outputs": [
    {
     "name": "stdout",
     "output_type": "stream",
     "text": [
      "3674\n",
      "CountVectorizer's train accuracy: 0.9414\n",
      "CountVectorizer's test accuracy: 0.8413\n",
      "\n"
     ]
    }
   ],
   "source": [
    "from sklearn.preprocessing import StandardScaler\n",
    "\n",
    "cv_df = CountVectorizer(tokenizer=custom_stem_tokenizer,\n",
    "                        token_pattern=None, \n",
    "                        min_df=0.00044\n",
    "                        ).fit(X_train)\n",
    "print(len(cv_df.vocabulary_))\n",
    "\n",
    "bow_cv_df = cv_df.fit_transform(X_train) \n",
    "bow_test_cv_df = cv_df.transform(X_test)\n",
    "\n",
    "bow_cv_df = bow_cv_df.toarray()\n",
    "bow_test_cv_df = bow_test_cv_df.toarray()\n",
    "\n",
    "scaler_cv_df = StandardScaler()\n",
    "bow_cv_df = scaler_cv_df.fit_transform(bow_cv_df)\n",
    "bow_test_cv_df = scaler_cv_df.transform(bow_test_cv_df)\n",
    "\n",
    "clf_cv_df = LogisticRegression(max_iter=200, random_state=0)\n",
    "clf_cv_df.fit(bow_cv_df, y_train)\n",
    "y_pred_train_cv_df = clf_cv_df.predict(bow_cv_df)\n",
    "y_pred_test_cv_df = clf_cv_df.predict(bow_test_cv_df)\n",
    "print(f\"CountVectorizer's train accuracy: {round(accuracy_score(y_train, y_pred_train_cv_df), 4)}\")\n",
    "print(f\"CountVectorizer's test accuracy: {round(accuracy_score(y_test, y_pred_test_cv_df), 4)}\\n\") "
   ]
  },
  {
   "cell_type": "code",
   "execution_count": 1654,
   "metadata": {},
   "outputs": [
    {
     "data": {
      "image/png": "[encoded data removed]",
      "text/plain": [
       "<Figure size 1500x600 with 2 Axes>"
      ]
     },
     "metadata": {},
     "output_type": "display_data"
    }
   ],
   "source": [
    "weights = clf_cv_df.coef_[0]\n",
    "tokens = np.array(cv_df.get_feature_names_out())\n",
    "\n",
    "top10_positive_tokens = np.argsort(weights)[-10:]\n",
    "top10_negative_tokens = np.argsort(weights)[:10]\n",
    "\n",
    "fig, ax = plt.subplots(1, 2, figsize=(15, 6))\n",
    "fig.suptitle(\"Top-10 positive/negative tokens\")\n",
    "\n",
    "\n",
    "pos = plt.subplot(121)\n",
    "plt.bar(tokens[top10_positive_tokens], weights[top10_positive_tokens], color=\"green\")\n",
    "pos.set_title(\"Top 10 positive tokens' weight\")\n",
    "pos.set_xlabel(\"Token\")\n",
    "pos.set_ylabel(\"Weight\")\n",
    "\n",
    "neg = plt.subplot(122)\n",
    "plt.bar(tokens[top10_negative_tokens], np.abs(weights[top10_negative_tokens]), color=\"red\")\n",
    "neg.set_title(\"Top 10 negative tokens' weight\")\n",
    "neg.set_xlabel(\"Token\")\n",
    "neg.set_ylabel(\"Weight\")\n",
    "\n",
    "plt.show()"
   ]
  },
  {
   "cell_type": "markdown",
   "metadata": {
    "id": "ThcEfzY1LHET"
   },
   "source": [
    "**Ответ:** \n",
    "* Наиболее влиятельными позитивным токенами являются добрые прилагательные: <i>safe, pleas, best</i>; слова, в том или ином роде означающие поддержку безопасность: <i>support, safe, thank, help, free</i>. Возможно, hand наиболее позитивный токен в связи с идиомой <i>give/lend someone a helping hand</i>.\n",
    "* Негативными токенами являются слова, описывающие ужасные события в жизни людей: кризис, паника, мошенничество, убийства, страх, катастрофа, болезнь, драка и так далее. Слово <i>stop</i> в топе из-за политических лозунгов: часто его добавляют в начале с целью прекратить что-либо."
   ]
  },
  {
   "cell_type": "markdown",
   "metadata": {
    "id": "ktJVOdrIHq7B"
   },
   "source": [
    "## Задание 7 Другие признаки (1.5 балла)"
   ]
  },
  {
   "cell_type": "markdown",
   "metadata": {
    "id": "Yt3jRCZ2H0Og"
   },
   "source": [
    "Мы были сконцентрированы на работе с текстами твиттов и не использовали другие признаки - имена пользователя, дату и местоположение"
   ]
  },
  {
   "cell_type": "markdown",
   "metadata": {
    "id": "52wjewCCo_di"
   },
   "source": [
    "Изучите признаки UserName и ScreenName. полезны ли они? Если полезны, то закодируйте их, добавьте к матрице с отскалированными признаками, обучите логистическую регрессию, замерьте качество."
   ]
  },
  {
   "cell_type": "code",
   "execution_count": 1659,
   "metadata": {},
   "outputs": [],
   "source": [
    "from sklearn.preprocessing import OneHotEncoder\n",
    "from scipy.sparse import hstack"
   ]
  },
  {
   "cell_type": "code",
   "execution_count": 1660,
   "metadata": {
    "id": "63thouYZptj6"
   },
   "outputs": [
    {
     "name": "stdout",
     "output_type": "stream",
     "text": [
      "Accuracy based on UserName & ScreenName: 0.8476\n"
     ]
    }
   ],
   "source": [
    "X = df[['UserName', 'ScreenName', 'OriginalTweet']]\n",
    "y = df['Sentiment']\n",
    "\n",
    "X_train, X_test, y_train, y_test = train_test_split(X, y, stratify=y, test_size=0.3, random_state=0)\n",
    "# В связи с тем, что в тестовой выборке могут оказаться пользователи, не входящие в обучающую выборке, \n",
    "# то необходимо handle_unknown=\"ignore\".\n",
    "enc = OneHotEncoder(handle_unknown=\"ignore\") \n",
    "X_train_new = enc.fit_transform(X_train)\n",
    "X_test_new = enc.transform(X_test)\n",
    "\n",
    "X_train_new = hstack([bow_tfidf, X_train_new])\n",
    "X_test_new = hstack([bow_test_tfidf, X_test_new])\n",
    "\n",
    "model = LogisticRegression(max_iter=200, random_state=0)\n",
    "model.fit(X_train_new, y_train)\n",
    "y_pred = model.predict(X_test_new)\n",
    "\n",
    "print(f\"Accuracy based on UserName & ScreenName: {round(accuracy_score(y_test, y_pred), 4)}\")"
   ]
  },
  {
   "cell_type": "markdown",
   "metadata": {
    "id": "r8_qR-gnpT3a"
   },
   "source": [
    "**Ответ:** Качество улучшилось всего на одну тысячную относительно погрешности, поэтому я считаю признаки UserName и ScreenName бесполезными."
   ]
  },
  {
   "cell_type": "markdown",
   "metadata": {
    "id": "ythEcFSkt7y3"
   },
   "source": [
    "Изучите признак TweetAt в обучающей выборке: преобразуйте его к типу datetime и нарисуйте его гистограмму с разделением по цвету на основе целевой переменной. Полезен ли он? Если полезен, то закодируйте его, добавьте к матрице с отскалированными признаками, обучите логистическую регрессию, замерьте качество."
   ]
  },
  {
   "cell_type": "code",
   "execution_count": 1663,
   "metadata": {
    "id": "Lxb_k0JLirNv"
   },
   "outputs": [
    {
     "data": {
      "image/png": "[encoded data removed]",
      "text/plain": [
       "<Figure size 1200x600 with 1 Axes>"
      ]
     },
     "metadata": {},
     "output_type": "display_data"
    }
   ],
   "source": [
    "train['TweetAt'] = pd.to_datetime(train['TweetAt'], format='%d-%m-%Y')\n",
    "X = train[['TweetAt', 'OriginalTweet']]\n",
    "y = train['Sentiment']\n",
    "labels = ['Negative', 'Positive']\n",
    "\n",
    "plt.figure(figsize=(12, 6))\n",
    "sns.histplot(data=train, x='TweetAt', hue='Sentiment', bins=30)\n",
    "\n",
    "plt.title('Distribution of tweets by date')\n",
    "plt.xlabel('Tweet date')\n",
    "plt.ylabel('Count')\n",
    "plt.legend(labels=labels)\n",
    "plt.xticks(rotation=30)\n",
    "plt.show()"
   ]
  },
  {
   "cell_type": "markdown",
   "metadata": {
    "id": "4IdLBdpQxM-G"
   },
   "source": [
    "**Ответ:** В целом, по данным за месяц видим картину, что всегда преобладают негативные твитты. Это довольно очевидно, потому что люди чаще пишут что-то негативное, о чем-то жалуются и прочее. Заметим, <i>2023-03-25</i> негативных твиттов на порядок больше. Полагаю, что именно в эту дату пришлись новости о начале пандемии: все уходили на карантин и самоизоляцию. И далее люди начали регулярно писать больше негативные твитты спустя 1-2 недели изоляции, возможно, из-за того, что им осточертело сидеть дома. Но в целом, не видна существенная разница позитивных и негативных твиттов в зависимости от даты.\n",
    "\n"
   ]
  },
  {
   "cell_type": "markdown",
   "metadata": {
    "id": "r2JtRPhNP6qx"
   },
   "source": [
    "Поработайте с признаком Location в обучающей выборке. Сколько уникальных значений?"
   ]
  },
  {
   "cell_type": "code",
   "execution_count": 1689,
   "metadata": {
    "id": "xYQZQ1FRNpoe"
   },
   "outputs": [
    {
     "name": "stdout",
     "output_type": "stream",
     "text": [
      "Количество уникальных значений признака Location: 7887\n"
     ]
    }
   ],
   "source": [
    "X = df['Location']\n",
    "y = df['Sentiment']\n",
    "\n",
    "X_train, X_test, y_train, y_test = train_test_split(X, y, stratify=y, test_size=0.3, random_state=0)\n",
    "print(f\"Количество уникальных значений признака Location: {X_train.nunique()}\")"
   ]
  },
  {
   "cell_type": "markdown",
   "metadata": {},
   "source": [
    "Постройте гистограмму топ-10 по популярности местоположений (исключая Unknown)"
   ]
  },
  {
   "cell_type": "code",
   "execution_count": 1694,
   "metadata": {
    "id": "6k4JwpRTQISa"
   },
   "outputs": [
    {
     "data": {
      "image/png": "[encoded data removed]",
      "text/plain": [
       "<Figure size 1000x500 with 1 Axes>"
      ]
     },
     "metadata": {},
     "output_type": "display_data"
    }
   ],
   "source": [
    "fig = plt.figure(figsize=(10, 5))\n",
    "top10_locations = X_train.value_counts()[1:11]\n",
    "\n",
    "plt.bar(top10_locations.index[::-1], top10_locations.values[::-1])\n",
    "plt.xlabel(\"Location\")\n",
    "plt.ylabel(\"Count\")\n",
    "plt.title(\"Top-10 popular locations based on train set\")\n",
    "plt.xticks(rotation=30)\n",
    "\n",
    "plt.show()"
   ]
  },
  {
   "cell_type": "markdown",
   "metadata": {
    "id": "ZOsv3lODTfYB"
   },
   "source": [
    "Видно, что многие местоположения включают в себя более точное название места, чем другие (Например, у некоторых стоит London, UK; а у некоторых просто UK или United Kingdom).\n",
    "\n",
    "Создайте новый признак WiderLocation, который содержит самое широкое местоположение (например, из London, UK должно получиться UK). Сколько уникальных категорий теперь? Постройте аналогичную гистограмму."
   ]
  },
  {
   "cell_type": "code",
   "execution_count": 1707,
   "metadata": {},
   "outputs": [],
   "source": [
    "X_train['WiderLocation'] = X_train.str.split(',').str[-1].str.strip()"
   ]
  },
  {
   "cell_type": "code",
   "execution_count": 1709,
   "metadata": {
    "id": "mSkow6acOMyD"
   },
   "outputs": [
    {
     "data": {
      "image/png": "[encoded data removed]",
      "text/plain": [
       "<Figure size 1000x500 with 1 Axes>"
      ]
     },
     "metadata": {},
     "output_type": "display_data"
    }
   ],
   "source": [
    "top_wider_locations = X_train['WiderLocation'].value_counts()[1:11]\n",
    "\n",
    "plt.figure(figsize=(10, 5))\n",
    "plt.bar(top_wider_locations.index[::-1], top_wider_locations.values[::-1])\n",
    "\n",
    "plt.xlabel('WiderLocation')\n",
    "plt.ylabel('Count')\n",
    "plt.title('Top-10 WiderLocations')\n",
    "plt.xticks(rotation=30)\n",
    "plt.show()"
   ]
  },
  {
   "cell_type": "markdown",
   "metadata": {
    "id": "cgyWrD2eVfff"
   },
   "source": [
    "Закодируйте признак WiderLocation с помощью OHE таким образом, чтобы создались только столбцы для местоположений, которые встречаются более одного раза. Сколько таких значений?\n"
   ]
  },
  {
   "cell_type": "code",
   "execution_count": 1712,
   "metadata": {
    "id": "SeJBfBWgPvg_"
   },
   "outputs": [
    {
     "name": "stdout",
     "output_type": "stream",
     "text": [
      "Количество местоположений: 989\n"
     ]
    }
   ],
   "source": [
    "import pandas as pd\n",
    "\n",
    "location_counts = X_train['WiderLocation'].value_counts()\n",
    "locations = location_counts[location_counts > 1].index\n",
    "filtered = pd.get_dummies(X_train['WiderLocation'].where(X_train['WiderLocation'].isin(locations)), prefix='WiderLocation')\n",
    "\n",
    "print(f\"Количество местоположений: {filtered.shape[1]}\")"
   ]
  },
  {
   "cell_type": "markdown",
   "metadata": {
    "id": "ZyMX5kZuimPK"
   },
   "source": [
    "Добавьте этот признак к матрице отскалированных текстовых признаков, обучите логистическую регрессию, замерьте качество. Как оно изменилось? Оказался ли признак полезным?\n",
    "\n",
    "\n",
    "*Подсказка:* используйте параметр `categories` в энкодере."
   ]
  },
  {
   "cell_type": "code",
   "execution_count": 1118,
   "metadata": {
    "id": "EO1jNPeeim7A"
   },
   "outputs": [],
   "source": [
    "# -- YOUR CODE HERE --"
   ]
  },
  {
   "cell_type": "markdown",
   "metadata": {
    "id": "7dHsGlDRYUQt"
   },
   "source": [
    "**Ответ:** # -- YOUR ANSWER HERE --"
   ]
  }
 ],
 "metadata": {
  "colab": {
   "provenance": []
  },
  "kernelspec": {
   "display_name": "Python [conda env:base] *",
   "language": "python",
   "name": "conda-base-py"
  },
  "language_info": {
   "codemirror_mode": {
    "name": "ipython",
    "version": 3
   },
   "file_extension": ".py",
   "mimetype": "text/x-python",
   "name": "python",
   "nbconvert_exporter": "python",
   "pygments_lexer": "ipython3",
   "version": "3.12.7"
  }
 },
 "nbformat": 4,
 "nbformat_minor": 4
}
