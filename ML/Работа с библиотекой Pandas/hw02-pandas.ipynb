{
 "cells": [
  {
   "cell_type": "markdown",
   "metadata": {
    "_uuid": "21c25e4f8bb31570029fd6b069131a5d00f84cf1",
    "id": "_FAAbo7m3ppQ"
   },
   "source": [
    "# Домашнее задание 2 (5 баллов).\n",
    "\n",
    "*Все задания ниже имеют равный вес (5/10)*"
   ]
  },
  {
   "cell_type": "markdown",
   "metadata": {
    "id": "sHeXfBzs3ppR"
   },
   "source": [
    "Код для импорта мы написали за вас (не благодарите, нам не трудно). Дальше код будете писать вы.\n",
    "\n",
    "[Тут](https://habr.com/ru/companies/ruvds/articles/494720/) шпора по pandas. За основу домашнего задания взят ноутбук [отсюда](https://rutube.ru/video/f884aa6ed5f94120b7304506042fe5bb/) (не подглядывайте!)."
   ]
  },
  {
   "cell_type": "code",
   "execution_count": 115,
   "metadata": {
    "_uuid": "568eb2d31004b87d22e119112ae01a1e75105f1d",
    "id": "-hSPcEF_3ppS"
   },
   "outputs": [],
   "source": [
    "import pandas as pd\n",
    "import numpy as np"
   ]
  },
  {
   "cell_type": "markdown",
   "metadata": {
    "id": "aGpHK7203ppT"
   },
   "source": [
    "#### Описание данных\n",
    "\n",
    "Автор д/з - плохой человек, который не стал переводить описание с мотивировкой, что весь DS на английском. Так что описание полей будет на английском:\n",
    "\n",
    "1. Account ID\n",
    "- Description: A unique identifier for each social media account in the dataset.\n",
    "- Type: Integer\n",
    "- Example: 1, 2, 3, …\n",
    "2. Username\n",
    "- Description: The username or handle of the social media account.\n",
    "- Type: String\n",
    "- Example: john_doe, tech_guru_22, fitness_freak\n",
    "3. Platform\n",
    "- Description: The social media platform the account is using (Instagram, Twitter, Facebook, TikTok, LinkedIn).\n",
    "- Type: Categorical (String)\n",
    "- Example: Instagram, Twitter, Facebook, TikTok, LinkedIn\n",
    "4. Follower Count\n",
    "- Description: The total number of followers the account has.\n",
    "- Type: Integer\n",
    "- Example: 1500, 245000, 78000\n",
    "5. Posts Per Week\n",
    "- Description: The average number of posts the account creates per week.\n",
    "- Type: Integer\n",
    "- Example: 3, 5, 7\n",
    "6. Engagement Rate\n",
    "- Description: The percentage of interactions (likes, comments, shares) relative to the follower count. This is a measure of how engaging the content is.\n",
    "- Type: Float\n",
    "- Range: 0.01 to 0.15\n",
    "- Example: 0.045 (4.5% engagement rate)\n",
    "7. Ad Spend (USD)\n",
    "- Description: The monthly amount spent on advertising or promoting posts.\n",
    "- Type: Float\n",
    "- Example: 150.75, 850.00, 300.50\n",
    "8. Conversion Rate\n",
    "- Description: The percentage of users who take a desired action (e.g., clicking a link, signing up, etc.) after interacting with an ad.\n",
    "- Type: Float\n",
    "- Range: 0.01 to 0.05 (1% to 5% conversion rate)\n",
    "- Example: 0.025 (2.5% conversion rate)\n",
    "9. Campaign Reach\n",
    "- Description: The total number of unique users reached by the user’s campaigns in a given month.\n",
    "- Type: Integer\n",
    "- Example: 5000, 20000, 15000"
   ]
  },
  {
   "cell_type": "markdown",
   "metadata": {
    "id": "6f90m9wa3ppT"
   },
   "source": [
    "#### Задание 0\n",
    "\n",
    "Подгрузите данные. Да-да, за чтение таблицы баллов не будет))\n",
    "\n",
    "**Hint**: [pd.read_csv](https://pandas.pydata.org/pandas-docs/stable/reference/api/pandas.read_csv.html)"
   ]
  },
  {
   "cell_type": "code",
   "execution_count": 119,
   "metadata": {
    "id": "Mm0Ngd5T3ppT"
   },
   "outputs": [],
   "source": [
    "df = ... # ^⨀ᴥ⨀^"
   ]
  },
  {
   "cell_type": "code",
   "execution_count": 121,
   "metadata": {
    "colab": {
     "base_uri": "https://localhost:8080/",
     "height": 441
    },
    "id": "VnVzfeUa3ppU",
    "outputId": "c415cb60-715d-4ec5-e4fe-b029425182ea"
   },
   "outputs": [
    {
     "data": {
      "text/html": [
       "<div>\n",
       "<style scoped>\n",
       "    .dataframe tbody tr th:only-of-type {\n",
       "        vertical-align: middle;\n",
       "    }\n",
       "\n",
       "    .dataframe tbody tr th {\n",
       "        vertical-align: top;\n",
       "    }\n",
       "\n",
       "    .dataframe thead th {\n",
       "        text-align: right;\n",
       "    }\n",
       "</style>\n",
       "<table border=\"1\" class=\"dataframe\">\n",
       "  <thead>\n",
       "    <tr style=\"text-align: right;\">\n",
       "      <th></th>\n",
       "      <th>Account ID</th>\n",
       "      <th>Username</th>\n",
       "      <th>Platform</th>\n",
       "      <th>Follower Count</th>\n",
       "      <th>Posts Per Week</th>\n",
       "      <th>Engagement Rate</th>\n",
       "      <th>Ad Spend (USD)</th>\n",
       "      <th>Conversion Rate</th>\n",
       "      <th>Campaign Reach</th>\n",
       "    </tr>\n",
       "  </thead>\n",
       "  <tbody>\n",
       "    <tr>\n",
       "      <th>0</th>\n",
       "      <td>1</td>\n",
       "      <td>harrislisa</td>\n",
       "      <td>TikTok</td>\n",
       "      <td>54217</td>\n",
       "      <td>3</td>\n",
       "      <td>0.0986</td>\n",
       "      <td>538.10</td>\n",
       "      <td>0.0490</td>\n",
       "      <td>1308</td>\n",
       "    </tr>\n",
       "    <tr>\n",
       "      <th>1</th>\n",
       "      <td>2</td>\n",
       "      <td>rhicks</td>\n",
       "      <td>LinkedIn</td>\n",
       "      <td>987518</td>\n",
       "      <td>5</td>\n",
       "      <td>0.0834</td>\n",
       "      <td>479.24</td>\n",
       "      <td>0.0174</td>\n",
       "      <td>13302</td>\n",
       "    </tr>\n",
       "    <tr>\n",
       "      <th>2</th>\n",
       "      <td>3</td>\n",
       "      <td>qthomas</td>\n",
       "      <td>Facebook</td>\n",
       "      <td>218870</td>\n",
       "      <td>3</td>\n",
       "      <td>0.1020</td>\n",
       "      <td>150.36</td>\n",
       "      <td>0.0318</td>\n",
       "      <td>11043</td>\n",
       "    </tr>\n",
       "    <tr>\n",
       "      <th>3</th>\n",
       "      <td>4</td>\n",
       "      <td>carlosholt</td>\n",
       "      <td>Instagram</td>\n",
       "      <td>207432</td>\n",
       "      <td>6</td>\n",
       "      <td>0.0834</td>\n",
       "      <td>932.62</td>\n",
       "      <td>0.0400</td>\n",
       "      <td>12074</td>\n",
       "    </tr>\n",
       "    <tr>\n",
       "      <th>4</th>\n",
       "      <td>5</td>\n",
       "      <td>parsonsashley</td>\n",
       "      <td>Facebook</td>\n",
       "      <td>350204</td>\n",
       "      <td>2</td>\n",
       "      <td>0.0642</td>\n",
       "      <td>504.44</td>\n",
       "      <td>0.0463</td>\n",
       "      <td>14083</td>\n",
       "    </tr>\n",
       "    <tr>\n",
       "      <th>...</th>\n",
       "      <td>...</td>\n",
       "      <td>...</td>\n",
       "      <td>...</td>\n",
       "      <td>...</td>\n",
       "      <td>...</td>\n",
       "      <td>...</td>\n",
       "      <td>...</td>\n",
       "      <td>...</td>\n",
       "      <td>...</td>\n",
       "    </tr>\n",
       "    <tr>\n",
       "      <th>9995</th>\n",
       "      <td>9996</td>\n",
       "      <td>sbyrd</td>\n",
       "      <td>TikTok</td>\n",
       "      <td>388169</td>\n",
       "      <td>6</td>\n",
       "      <td>0.0642</td>\n",
       "      <td>362.91</td>\n",
       "      <td>0.0108</td>\n",
       "      <td>45091</td>\n",
       "    </tr>\n",
       "    <tr>\n",
       "      <th>9996</th>\n",
       "      <td>9997</td>\n",
       "      <td>jacksongerald</td>\n",
       "      <td>TikTok</td>\n",
       "      <td>150775</td>\n",
       "      <td>1</td>\n",
       "      <td>0.0642</td>\n",
       "      <td>177.92</td>\n",
       "      <td>0.0262</td>\n",
       "      <td>33084</td>\n",
       "    </tr>\n",
       "    <tr>\n",
       "      <th>9997</th>\n",
       "      <td>9998</td>\n",
       "      <td>eryan</td>\n",
       "      <td>Twitter</td>\n",
       "      <td>427451</td>\n",
       "      <td>5</td>\n",
       "      <td>0.0834</td>\n",
       "      <td>432.65</td>\n",
       "      <td>0.0402</td>\n",
       "      <td>12484</td>\n",
       "    </tr>\n",
       "    <tr>\n",
       "      <th>9998</th>\n",
       "      <td>9999</td>\n",
       "      <td>barbara57</td>\n",
       "      <td>LinkedIn</td>\n",
       "      <td>132884</td>\n",
       "      <td>4</td>\n",
       "      <td>0.0986</td>\n",
       "      <td>892.99</td>\n",
       "      <td>0.0329</td>\n",
       "      <td>35766</td>\n",
       "    </tr>\n",
       "    <tr>\n",
       "      <th>9999</th>\n",
       "      <td>10000</td>\n",
       "      <td>nbutler</td>\n",
       "      <td>Facebook</td>\n",
       "      <td>725253</td>\n",
       "      <td>2</td>\n",
       "      <td>0.0642</td>\n",
       "      <td>878.87</td>\n",
       "      <td>0.0420</td>\n",
       "      <td>13012</td>\n",
       "    </tr>\n",
       "  </tbody>\n",
       "</table>\n",
       "<p>10000 rows × 9 columns</p>\n",
       "</div>"
      ],
      "text/plain": [
       "      Account ID       Username   Platform  Follower Count  Posts Per Week  \\\n",
       "0              1     harrislisa     TikTok           54217               3   \n",
       "1              2         rhicks   LinkedIn          987518               5   \n",
       "2              3        qthomas   Facebook          218870               3   \n",
       "3              4     carlosholt  Instagram          207432               6   \n",
       "4              5  parsonsashley   Facebook          350204               2   \n",
       "...          ...            ...        ...             ...             ...   \n",
       "9995        9996          sbyrd     TikTok          388169               6   \n",
       "9996        9997  jacksongerald     TikTok          150775               1   \n",
       "9997        9998          eryan    Twitter          427451               5   \n",
       "9998        9999      barbara57   LinkedIn          132884               4   \n",
       "9999       10000        nbutler   Facebook          725253               2   \n",
       "\n",
       "      Engagement Rate  Ad Spend (USD)  Conversion Rate  Campaign Reach  \n",
       "0              0.0986          538.10           0.0490            1308  \n",
       "1              0.0834          479.24           0.0174           13302  \n",
       "2              0.1020          150.36           0.0318           11043  \n",
       "3              0.0834          932.62           0.0400           12074  \n",
       "4              0.0642          504.44           0.0463           14083  \n",
       "...               ...             ...              ...             ...  \n",
       "9995           0.0642          362.91           0.0108           45091  \n",
       "9996           0.0642          177.92           0.0262           33084  \n",
       "9997           0.0834          432.65           0.0402           12484  \n",
       "9998           0.0986          892.99           0.0329           35766  \n",
       "9999           0.0642          878.87           0.0420           13012  \n",
       "\n",
       "[10000 rows x 9 columns]"
      ]
     },
     "execution_count": 121,
     "metadata": {},
     "output_type": "execute_result"
    }
   ],
   "source": [
    "df = pd.read_csv(\"data.csv\")\n",
    "df"
   ]
  },
  {
   "cell_type": "markdown",
   "metadata": {
    "id": "3XGugWFq3ppU"
   },
   "source": [
    "#### Задание 1\n",
    "\n",
    "Колонка `Platform` содержит название различных платформ. Давайте представим, что в них есть некоторое отношение порядка. Закодируйте каждую платформу целым числом (от 0 до N) и положите этот \"код\" в новую колонку `Platform_Code`. Теперь вычислите корреляцию Спирмена между всеми парами колонок в датасете (результатом будет таблица корреляций). В качестве ответа выведите значение корреляции `Platform_Code` с `Engagement Rate`. Можете после вывода числа еще коротко написать, что оно означает (нет, это не оценивается).\n",
    "\n",
    "**Hint**: [pd.factorize](https://pandas.pydata.org/pandas-docs/stable/reference/api/pandas.factorize.html), [pd.DataFrame.select_dtypes](https://pandas.pydata.org/pandas-docs/stable/reference/api/pandas.DataFrame.select_dtypes.html), [pd.DataFrame.corr](https://pandas.pydata.org/pandas-docs/stable/reference/api/pandas.DataFrame.corr.html)."
   ]
  },
  {
   "cell_type": "code",
   "execution_count": 124,
   "metadata": {
    "colab": {
     "base_uri": "https://localhost:8080/"
    },
    "id": "hQpyyhNa3ppV",
    "outputId": "2179764d-6b30-4b54-f47d-d36f685f87e9"
   },
   "outputs": [
    {
     "name": "stdout",
     "output_type": "stream",
     "text": [
      "Значение корреляции Plaform_Code и Engagement Rate равна 0.03138.\n"
     ]
    }
   ],
   "source": [
    "df['Platform'].nunique() # Всего пять разных платформ.\n",
    "\n",
    "platforms = {\n",
    "    \"Facebook\": 0,\n",
    "    \"Instagram\": 1,\n",
    "    \"LinkedIn\": 2,\n",
    "    \"Tiktok\": 3,\n",
    "    \"Twitter\": 4,\n",
    "}\n",
    "\n",
    "df['Platform_Code'], uniques = pd.factorize(df['Platform'])\n",
    "corr_matrix = df.select_dtypes(include='number').corr(method='spearman')\n",
    "print(f'Значение корреляции Plaform_Code и Engagement Rate равна {round(corr_matrix.loc[\"Platform_Code\", \"Engagement Rate\"], 5)}.')"
   ]
  },
  {
   "cell_type": "markdown",
   "metadata": {
    "id": "4xG_7-QZ3ppV"
   },
   "source": [
    "#### Задание 2\n",
    "\n",
    "Теперь посмотрите на столбец `Follower Count`. В нем какие-то числа. Иногда бывает полезно провести дискретизацию такого признака. Разбейте все значения в столбце на 4 группы: \"Low\", \"Medium\", \"High\", \"Very High\". Каждая группа включает в себя новые 25% данных. То есть, Low включает в себя 25% самых маленьких значений признака и так далее. Положите значения \"Low\", \"Medium\", \"High\" или \"Very High\" для каждого сэмпла датасета в новую колонку `Follower_Bin`. Теперь посчитайте среднее значение `Engagement Rate` для каждой категории из `Follower_Bin`. В качестве ответа выведите значение для категории \"High\".\n",
    "\n",
    "**Hint**: [pd.qcut](https://pandas.pydata.org/pandas-docs/stable/reference/api/pandas.qcut.html), [pd.groupby](https://pandas.pydata.org/pandas-docs/stable/reference/api/pandas.DataFrame.groupby.html), [pd.DataFrame.mean](https://pandas.pydata.org/pandas-docs/stable/reference/api/pandas.DataFrame.mean.html)"
   ]
  },
  {
   "cell_type": "code",
   "execution_count": 127,
   "metadata": {
    "colab": {
     "base_uri": "https://localhost:8080/"
    },
    "id": "7yd1B6kx3ppV",
    "outputId": "31c074d6-8090-42d8-f8e4-2b38ce38da3e"
   },
   "outputs": [
    {
     "name": "stdout",
     "output_type": "stream",
     "text": [
      "Среднее значение Engagement Rate для категории High равно 0.08655.\n"
     ]
    }
   ],
   "source": [
    "df['Follower_Bin'] = pd.qcut(df['Follower Count'], 4, ['Low', 'Medium', 'High', 'Very High'])\n",
    "print(f\"Среднее значение Engagement Rate для категории High равно {round(df.groupby(['Follower_Bin'], observed=False)['Engagement Rate'].mean()['High'], 5)}.\")"
   ]
  },
  {
   "cell_type": "markdown",
   "metadata": {
    "id": "QIxD7q373ppV"
   },
   "source": [
    "#### Задание 3\n",
    "\n",
    "Иногда бывает полезно превратить широкую таблицу в длинную (например, для визуализаций сразу нескольких признаков на одной картинке). Да, звучит странно, но именно этим вы сейчас и займетесь. Сделайте новый датафрейм `melted_df`, в который вы поместите каждый сэмпл датасета 6 раз: по одному разу на значение из 'Follower Count', 'Posts Per Week', 'Ad Spend (USD)', 'Conversion Rate', 'Engagement Rate' и 'Campaign Reach'. То есть, вы берете сэмпл из датасета (строку) и превращаете ее в 6 отдельных строк. Каждая отдельная строка в столбце `Metric` имеет имя из предложенного списка 5 признаков, а в столбце `Value` - значение данного сэмпла по этому признаку. Значение `Platform` повторяется в этих 6 строках.\n",
    "\n",
    "Иначе говоря,\n",
    "\n",
    "```json\n",
    "{\n",
    "    \"Account ID\": 1,\n",
    "    \"Username\": \"harrislisa\",\n",
    "    \"Platform\": \"TikTok\",\n",
    "    \"Follower Count\": 54217,\n",
    "    \"Posts Per Week\": 3,\n",
    "    \"Engagement Rate\": 0.0986,\n",
    "    \"Ad Spend (USD)\": 538.1,\n",
    "    \"Conversion Rate\": 0.049,\n",
    "    \"Campaign Reach\": 1308,\n",
    "    \"Platform_Code\": 0,\n",
    "    \"Follower_Bin\": \"Low\"\n",
    "}\n",
    "```\n",
    "\n",
    "превращается в\n",
    "\n",
    "```json\n",
    "{\n",
    "    \"Platform\": \"TikTok\",\n",
    "    \"Metric\": \"Follower Count\",\n",
    "    \"Value\": 54217,\n",
    "},\n",
    "{\n",
    "    \"Platform\": \"TikTok\",\n",
    "    \"Metric\": \"Posts Per Week\",\n",
    "    \"Value\": 3,\n",
    "}, ...\n",
    "```\n",
    "\n",
    "Для каждого уникальной пары значений (`Platform`, `Metric`) посчитайте моду среди всех значений `Value` для этой пары, результат сделайте списком и оставьте только наибольшее. В качестве ответа выведите сумму полученных мод (сумму всех значений в столбце `Value` уже после вычисления мод). Иначе говоря, выведите сумму всех мод значений для всех уникальных пар (`Platform`, `Metric`).\n",
    "\n",
    "**Hint**: [pd.melt](https://pandas.pydata.org/pandas-docs/stable/reference/api/pandas.melt.html), [pd.DataFrame.mode](https://pandas.pydata.org/pandas-docs/stable/reference/api/pandas.DataFrame.mode.html), [pd.DataFrameGroupBy.agg](https://pandas.pydata.org/docs/dev/reference/api/pandas.core.groupby.DataFrameGroupBy.agg.html)"
   ]
  },
  {
   "cell_type": "code",
   "execution_count": 130,
   "metadata": {
    "colab": {
     "base_uri": "https://localhost:8080/"
    },
    "id": "HPtV11bX3ppW",
    "outputId": "8b766a96-8bd9-4154-8174-952b41e19b21"
   },
   "outputs": [
    {
     "name": "stdout",
     "output_type": "stream",
     "text": [
      "Сумма всех мод значений для всех уникальных пар (Platform, Metric) равна 1018325962.464.\n"
     ]
    }
   ],
   "source": [
    "melted_df = pd.melt(df, id_vars=['Platform'], value_vars=['Follower Count', 'Posts Per Week', 'Ad Spend (USD)', 'Conversion Rate', 'Engagement Rate', 'Campaign Reach'], var_name='Metric', value_name='Value')\n",
    "\n",
    "print(f\"Сумма всех мод значений для всех уникальных пар (Platform, Metric) равна {round(melted_df.groupby(['Platform', 'Metric'])['Value'].agg(lambda x: x.mode().sum()).sum(), 3)}.\")\n"
   ]
  },
  {
   "cell_type": "markdown",
   "metadata": {
    "id": "AEoMwI9s3ppW"
   },
   "source": [
    "#### Задание 4\n",
    "\n",
    "А теперь хочется посмотреть на самые популярные аккаунты на разных платформах. Для каждой платформы отсортируйте датафрейм по убыванию количества подписчиков (`Follower Count`) - да, без циклов, сразу для всех платформ сделать сортировку, а затем оставьте только первые три записи для каждой платформы - это и будут три самых популярных аккаунта для каждой платформы. В качестве ответа выведите саму таблицу и минимальное значение `Follower Count` в ней.\n",
    "\n",
    "**Hint**: к *groupby* можно применять функции - это эквивалентно применению функции к каждой \"группе\" внутри groupby-объекта. Читайте [про применение apply к датафрейму после groupby](https://pandas.pydata.org/pandas-docs/stable/user_guide/groupby.html#flexible-apply)."
   ]
  },
  {
   "cell_type": "code",
   "execution_count": 133,
   "metadata": {
    "colab": {
     "base_uri": "https://localhost:8080/"
    },
    "id": "tb_xxvQo3ppW",
    "outputId": "6a57ce75-d2c3-4dc3-d761-8b3d2eb97ff5"
   },
   "outputs": [
    {
     "name": "stdout",
     "output_type": "stream",
     "text": [
      "Минимальное значение среди трех популярных аккаунтов на каждой платформе равно 997512.\n"
     ]
    }
   ],
   "source": [
    "def f(x):\n",
    "  return x.sort_values(by='Follower Count', ascending=False).head(3)\n",
    "\n",
    "sorted_df = df.groupby('Platform').apply(f, include_groups=False)\n",
    "print(f'Минимальное значение среди трех популярных аккаунтов на каждой платформе равно {sorted_df[\"Follower Count\"].min()}.')"
   ]
  },
  {
   "cell_type": "markdown",
   "metadata": {
    "id": "t4G-XUes3ppW"
   },
   "source": [
    "#### Задание 5\n",
    "\n",
    "Хочется посчитать какую-то метрику. Мы хотим посмотреть, на отношение разности суммы подписчиков аккаунтов с высокой и низкой конверсией к суммарному охвату рекламы на каждой платформе. То есть, мы делим аккаунты на две группы: высокая и низка конверсия. Затем мы смотрим на то, на сколько сильно влияние аккаунтов с высокой конверсией по сравнению с аккаунтами с низкой конверсией.\n",
    "\n",
    "Давайте определим *Conversion Influence* следущим образом:\n",
    "\n",
    "$$Conversion Influence = \\frac{Total Follower\\ Count (High) - Total Follower\\ Count (Low)}{Total Campaign Reach (High)+Total Campaign Reach (Low)}$$\n",
    "\n",
    "Считать эту метрику мы будет для каждой `Platform`. В этой формуле High - это значения всех сэмплов датасета, в которых `Conversion Rate` больше медианы, а `Low` - не более медианы. `Total Feature` - это суммарное количество значений `Feature` либо по `High` сэмплам, либо по `Low`.\n",
    "\n",
    "Чтобы постоянно не пересчитывать, где High. где Low, сделайте новую колонку в датасете `Conversion_Category`. Положите в нее для каждой строки либо High, либо Low.\n",
    "\n",
    "Выведите платформу с самым большим `Conversion Influence`.\n",
    "\n",
    "**Hint**: данное задание не про *groupby*, а скорее про [pd.pivot_table](https://pandas.pydata.org/pandas-docs/stable/reference/api/pandas.pivot_table.html). Сделайте сводную таблицу, по которой уже можно посчитать суммы, а затем подставить их в формулы."
   ]
  },
  {
   "cell_type": "code",
   "execution_count": 136,
   "metadata": {
    "colab": {
     "base_uri": "https://localhost:8080/"
    },
    "id": "nuwRohXT3ppW",
    "outputId": "56e3cb3e-b7a8-4d4b-cef4-fd8825884a5b"
   },
   "outputs": [
    {
     "name": "stdout",
     "output_type": "stream",
     "text": [
      "Платформа с самым большим Conversion Influence: Twitter.\n"
     ]
    }
   ],
   "source": [
    "mediana = df['Conversion Rate'].median()\n",
    "df['Conversion_Category'] = df['Conversion Rate'].apply(lambda x: \"High\" if x > mediana else 'Low')\n",
    "conversion_df = df.pivot_table(index='Platform', columns='Conversion_Category', values=['Follower Count', 'Campaign Reach'], aggfunc='sum')\n",
    "conversion_df['Conversion_Influence'] = (conversion_df['Follower Count']['High'] - conversion_df['Follower Count']['Low']) / (conversion_df['Campaign Reach']['High'] + conversion_df['Campaign Reach']['Low'])\n",
    "\n",
    "key_index = list(platforms.values()).index(conversion_df[\"Conversion_Influence\"].argmax())\n",
    "key = list(platforms.keys())[key_index]\n",
    "print(f'Платформа с самым большим Conversion Influence: {key}.')"
   ]
  },
  {
   "cell_type": "markdown",
   "metadata": {
    "id": "VqBghDM73ppW"
   },
   "source": [
    "#### Задание 6\n",
    "\n",
    "Мы знаем, что вам понравилось считать метрики по формуле. Давайте закрепим этот успех. Теперь для каждой платформы посчитаем, на сколько эффективна реклама в разрезе трех последовательных записей в датасете.\n",
    "\n",
    "Для каждой платформы отсортируйте записи в порядке убывания `Posts Per Week`. Будто бы аккаунты, которые постят чаще, используют более \"активные\" стратегии по рекламе. Теперь посчитайте *скользущие суммы с окном 3* по `Campaign Reach` и `Ad Spend (USD)`. Скользящая сумма с окном N - это вы идете по массиву, берете все последовательные тройки записей и суммируете их. Для первых двух записей троек не найдется. Для них скользящее среднее - NaN, что нам не помешает.\n",
    "\n",
    "Теперь для каждого окна посчитайте\n",
    "\n",
    "$$Rolling Efficiency Ratio = \\frac{Rolling Sum of Campaign Reach}{Rolling Sum of Ad Spend}$$\n",
    "\n",
    "По сути, для каждого окна вы посчитаете сколько пользователе привлеклось за один доллар, потреченный на рекламу, в данном окне. Понятно, что значений будет столько, сколько окон. Нам интересно максимально значение такой эффективности для каждой платформы.\n",
    "\n",
    "В качестве ответа выведите название платформы с наибольшей максимальной эффективность и наименьшей (два названия, не одно, не три, ровно два).\n",
    "\n",
    "**Hint**: окна можно делать через [pd.DataFrame.rolling](https://pandas.pydata.org/pandas-docs/stable/reference/api/pandas.DataFrame.rolling.html)."
   ]
  },
  {
   "cell_type": "code",
   "execution_count": 139,
   "metadata": {
    "colab": {
     "base_uri": "https://localhost:8080/"
    },
    "id": "dDJhTCKi3ppW",
    "outputId": "2540d43e-0d86-4d66-8265-4729ed64f80e"
   },
   "outputs": [
    {
     "name": "stdout",
     "output_type": "stream",
     "text": [
      "Названия платформ с наибольшей максимальной эффективностью и наименьшей LinkedIn, LinkedIn соответственно.\n"
     ]
    }
   ],
   "source": [
    "def f(x):\n",
    "  x['RollingSumofCampaignReach'] = x['Campaign Reach'].rolling(3).sum()\n",
    "  x['RollingSumofAdSpend'] = x['Ad Spend (USD)'].rolling(3).sum()\n",
    "  x['RollingSumofAdSpend'] = x['RollingSumofAdSpend'].replace(0, float('NaN'))\n",
    "  x['RollingEfficiencyRatio'] = x['RollingSumofCampaignReach'] / x['RollingSumofAdSpend']\n",
    "\n",
    "  return x\n",
    "\n",
    "sorted_df = df.groupby(['Platform']).apply(f, include_groups=False)\n",
    "\n",
    "max_efficiency_ratio_platform_name, max_efficiency_ratio_idx = sorted_df['RollingEfficiencyRatio'].idxmax()\n",
    "min_efficiency_ratio_platform_name, min_efficiency_ratio_idx= sorted_df['RollingEfficiencyRatio'].idxmin()\n",
    "\n",
    "print(f\"Названия платформ с наибольшей максимальной эффективностью и наименьшей {max_efficiency_ratio_platform_name}, {min_efficiency_ratio_platform_name} соответственно.\")"
   ]
  },
  {
   "cell_type": "markdown",
   "metadata": {
    "id": "gGYTrkg03ppW"
   },
   "source": [
    "#### Задание 7\n",
    "\n",
    "Это еще не все прекрасные функции pandas, которые мы хотим вам показать. Теперь вы посчитаете, сколько аккаунтов на каждой платформе одновременно лучшие по `Engagement Rate` и `Conversion Rate`.\n",
    "\n",
    "Сделайте два отдельных суб-сета. В одном оставьте для каждой платфмормы один топовый аккаунт по `Engagement Rate`, в другом - по `Conversion Rate`. Соедините эти два подмножества по столбцу `Platform` так, что в одно строке есть описание сразу двух аккаунтов-лидеров. Теперь посмотрите равны ли имена аккаунтов в одной строке. Выведите количество строк, в которых названия аккаунтов совпадают."
   ]
  },
  {
   "cell_type": "code",
   "execution_count": 142,
   "metadata": {
    "colab": {
     "base_uri": "https://localhost:8080/"
    },
    "id": "3IOGunrF3ppX",
    "outputId": "b2cc26a6-6312-493c-ead7-2381334829c7"
   },
   "outputs": [
    {
     "name": "stdout",
     "output_type": "stream",
     "text": [
      "Количество строк, в которых названия аккаунтов совпадают равно 0.\n"
     ]
    }
   ],
   "source": [
    "def f(x, arg):\n",
    "  return x.sort_values(by=arg, ascending=False).head(1)\n",
    "\n",
    "first_subset = df.groupby('Platform').apply(f, 'Engagement Rate', include_groups=False)\n",
    "second_subset = df.groupby('Platform').apply(f, 'Conversion Rate', include_groups=False)\n",
    "\n",
    "res_df = pd.merge(first_subset, second_subset, on='Platform', how='inner')\n",
    "res_df['ids_are_equal'] = res_df['Account ID_x'] == res_df['Account ID_y']\n",
    "print(f\"Количество строк, в которых названия аккаунтов совпадают равно {res_df['ids_are_equal'].sum()}.\")"
   ]
  },
  {
   "cell_type": "markdown",
   "metadata": {
    "id": "MJLLHRsw3ppX"
   },
   "source": [
    "#### Задание 8\n",
    "\n",
    "Давайте теперь что-то попроще сделаем. Например, посчитаем отношение суммарного количества подписчиков на аккаунтах с высокой конверсией к такой же сумме в аккаунтах с низкой конверсией (очевидно, для каждой платформы). По сути, мы просто хотим получить число, которое характеризует, на сколько сильно аккаунты с высокой конверсией \"доминируют\" над аккаунтами с низкой конверсией в плане количества подписчиков.\n",
    "\n",
    "Высокой конверсией будем считать конверсию больше средней. Остальное - низкая. Посчитайте суммы подписчиков для каждой платформы, поделите одно на другое и выведите разницу между самым большим значением и самым маленьким, а также платформы, которые соотвутствуют этим значениям.\n",
    "\n",
    "Используйте магическую команду `%%time`, чтобы замерить, сколько времени ушло на исполнение вашего pandas-скрипта."
   ]
  },
  {
   "cell_type": "code",
   "execution_count": 205,
   "metadata": {
    "colab": {
     "base_uri": "https://localhost:8080/"
    },
    "id": "nfm42rjP3ppX",
    "outputId": "62566d72-9b0b-455b-a596-800edbe08b91"
   },
   "outputs": [
    {
     "name": "stdout",
     "output_type": "stream",
     "text": [
      "Разница между самым большим и самым маленьким значением равна 0.18549169736245585.\n",
      "Таковыми компаниями являются Twitter и Instagram соответственно.\n",
      "CPU times: user 15.2 ms, sys: 3.11 ms, total: 18.3 ms\n",
      "Wall time: 17.1 ms\n"
     ]
    }
   ],
   "source": [
    "%%time\n",
    "mediana = df['Conversion Rate'].median()\n",
    "df['Conversion_Type'] = df['Conversion Rate'].apply(lambda x: 'High Conversion' if x > mediana else 'Low Conversion')\n",
    "\n",
    "pivot_df = df.pivot_table(index='Platform', columns='Conversion_Type', values='Follower Count', aggfunc='sum')\n",
    "pivot_df['Attitude'] = pivot_df['High Conversion'] / pivot_df['Low Conversion']\n",
    "\n",
    "max_platform = pivot_df['Attitude'].idxmax()\n",
    "min_platform = pivot_df['Attitude'].idxmin()\n",
    "diff = pivot_df[\"Attitude\"].max() - pivot_df[\"Attitude\"].min()\n",
    "\n",
    "print(f'Разница между самым большим и самым маленьким значением равна {diff}.')\n",
    "print(f'Таковыми компаниями являются {max_platform} и {min_platform} соответственно.')"
   ]
  },
  {
   "cell_type": "markdown",
   "metadata": {
    "id": "nQWIQBg13ppX"
   },
   "source": [
    "#### Задание 9\n",
    "\n",
    "А теперь решите задание 8 чисто питоном. Никаких функций и методов pandas. Только питоновские циклы. Замерьте время выполнения кода. Наконец, сравните время в задании 8 и 9. Напишите ниже, кто же победил: чистый python и pandas?\n",
    "\n",
    "**Hint**: Чтобы итерироваться по датафрейму, можно из него сделать генератор через [pd.DataFrame.iterrows](https://pandas.pydata.org/pandas-docs/stable/reference/api/pandas.DataFrame.iterrows.html) или [pd.DataFrame.itertuples](https://pandas.pydata.org/pandas-docs/stable/reference/api/pandas.DataFrame.itertuples.html#pandas.DataFrame.itertuples). К слову, это не все способы итерироваться по датафрейму."
   ]
  },
  {
   "cell_type": "code",
   "execution_count": 207,
   "metadata": {
    "id": "rMIq9mot3ppX"
   },
   "outputs": [
    {
     "name": "stdout",
     "output_type": "stream",
     "text": [
      "Разница между самым большим и самым маленьким значением равна 0.18549169736245585.\n",
      "Таковыми компаниями являются Twitter и Instagram соответственно.\n",
      "CPU times: user 274 ms, sys: 6.33 ms, total: 280 ms\n",
      "Wall time: 311 ms\n"
     ]
    }
   ],
   "source": [
    "%%time \n",
    "# Считаем медиану.\n",
    "conv_rate_array = []\n",
    "for x in df.iterrows():\n",
    "    conv_rate_array.append(x[1]['Conversion Rate'])\n",
    "    \n",
    "sorted_conv_rate_array = sorted(conv_rate_array)\n",
    "n = len(sorted_conv_rate_array)\n",
    "if len(conv_rate_array) % 2 == 0:\n",
    "    mediana = (sorted_conv_rate_array[n // 2 + 1] + sorted_conv_rate_array[n // 2]) / 2 \n",
    "else:\n",
    "    mediana = sorted_conv_rate_array[n // 2]\n",
    "\n",
    "platform_dict = {}\n",
    "\n",
    "for i, row in df.iterrows():\n",
    "    followers = row['Follower Count']\n",
    "    platform = row['Platform']\n",
    "    conv_rate = row['Conversion Rate']\n",
    "    conv_type = 'High Conversion' if conv_rate >= mediana else 'Low Conversion'\n",
    "    \n",
    "    if platform not in platform_dict:\n",
    "        platform_dict[platform] = {\n",
    "            'High Conversion': 0,\n",
    "            'Low Conversion': 0\n",
    "        }\n",
    "    platform_dict[platform][conv_type] += followers\n",
    "    \n",
    "attitude_dict = {}\n",
    "for platform, value in platform_dict.items():\n",
    "    if value['Low Conversion'] == 0:\n",
    "        attitude_dict[platform] = 'error'\n",
    "    else:\n",
    "        attitude_dict[platform] = value['High Conversion'] / value['Low Conversion']\n",
    "    \n",
    "max_platform = max(attitude_dict.items(), key=lambda x: x[1])\n",
    "min_platform = min(attitude_dict.items(), key=lambda x: x[1])\n",
    "diff = max_platform[1] - min_platform[1]\n",
    "\n",
    "print(f'Разница между самым большим и самым маленьким значением равна {diff}.')\n",
    "print(f'Таковыми компаниями являются {max_platform[0]} и {min_platform[0]} соответственно.')"
   ]
  },
  {
   "cell_type": "markdown",
   "metadata": {},
   "source": [
    "Победил Pandas: он оказался в 18 раз быстрее Python. Возможно, это случается из-за того, что iterrows() создает кучу объектов вида Series."
   ]
  },
  {
   "cell_type": "markdown",
   "metadata": {
    "id": "qOm4xWhL3ppX"
   },
   "source": [
    "**А победителем является**: <А ТУТ МОЙ ОТВЕТ, Я ЗАМЕТИЛ, ЧТО В ЗАДАНИИ НУЖНО ЕЩЕ ЧТО-ТО НАПИСАТЬ ПОСЛЕ КОДА, ИНАЧЕ НЕ ПОЛУЧУ ПОЛНЫЙ БАЛЛ ЗА ЗАДАНИЕ>"
   ]
  },
  {
   "cell_type": "markdown",
   "metadata": {
    "id": "Cr7JgbCO3ppX"
   },
   "source": [
    "#### Задание 10\n",
    "\n",
    "Крайне серьезное задание. Отнеситесь к нему соответствующе. В ячейке ниже напишите ваш любимый анекдот или мем (только без баянов, окей?). Можно плохие. Помните, это задание на полный балл. Проверяющий работу ассистент должен улыбнуться.\n",
    "\n",
    "Если вставляете картинку, то убедитесь, что вы ее не подгружаете локально. А то будет неудобно - потерять балл на этом задании, когда надо было выложить картинку на облако и прокинуть ссылку. И нет, нельзя сюда просто ссылку вставить. Либо ищите, как вставить картинку, либо смешной анекдот. Есть всего два стула - выбирайте..."
   ]
  },
  {
   "cell_type": "markdown",
   "metadata": {
    "id": "Z3TPPEMt3ppX"
   },
   "source": [
    "идет женщина по улице с булкой в сумке. женщина идет, поскользнулась и упала булкой прямо в грязь.\n",
    "проходит мужчина, видит это и говорит: подымите булку, она у вас упала.\n",
    "женщина говорит: вот она вся черная в грязи, а у меня язва желудка и мне нельзя есть черный хлеб.\n",
    "\n",
    "\n",
    "другой анекдот:\n",
    "едет женщина в трамвае и в руках у нее маленькая собачка. сидит старичок и достает пустую трубку\n",
    "и вставляет себе в рот. женщина возмутилась и сказала: перестаньте курить в трамвае. старик отвечает: я не курю, она пустая, у меня такая привычка.\n",
    "женщина все равно настаивает и говорит что ей противен запах и просит убрать трубку. мужичок отвечает, что не уберет.\n",
    "женщина выхватывает трубку и выкидывает на улицу. тогда старик возмущенно стремглав берет собаку и тоже выкидывает на улицу.\n",
    "женщина закатывает истерику, и трамвай останавливается, все выбегают. бежит собака и в зубах у нее ... [трубка??] -- нетбулка из первого анекдота\n"
   ]
  }
 ],
 "metadata": {
  "colab": {
   "provenance": []
  },
  "kernelspec": {
   "display_name": "Python [conda env:base] *",
   "language": "python",
   "name": "conda-base-py"
  },
  "language_info": {
   "codemirror_mode": {
    "name": "ipython",
    "version": 3
   },
   "file_extension": ".py",
   "mimetype": "text/x-python",
   "name": "python",
   "nbconvert_exporter": "python",
   "pygments_lexer": "ipython3",
   "version": "3.12.7"
  }
 },
 "nbformat": 4,
 "nbformat_minor": 4
}
